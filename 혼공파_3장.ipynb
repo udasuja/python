{
  "nbformat": 4,
  "nbformat_minor": 0,
  "metadata": {
    "colab": {
      "provenance": []
    },
    "kernelspec": {
      "name": "python3",
      "display_name": "Python 3"
    },
    "language_info": {
      "name": "python"
    }
  },
  "cells": [
    {
      "cell_type": "markdown",
      "source": [
        "boolean operator(==,!=,>,not,and,...등)는 오직 True혹은 False값만 출력할 수 있다. 이 True, False는 어떤 명제의 결과가 될 때 의미를 갖게 된다."
      ],
      "metadata": {
        "id": "ce4cJoJxjDG-"
      }
    },
    {
      "cell_type": "code",
      "execution_count": 6,
      "metadata": {
        "colab": {
          "base_uri": "https://localhost:8080/"
        },
        "id": "TOG211YUiAhL",
        "outputId": "27c5bc85-a8dd-4883-fb14-590b3c79a2f4"
      },
      "outputs": [
        {
          "output_type": "stream",
          "name": "stdout",
          "text": [
            "True\n",
            "False\n",
            "-----------------------------------------------\n",
            "True\n",
            "False\n",
            "---not---\n",
            "False\n",
            "True\n",
            "---or---\n",
            "True\n",
            "---and---\n",
            "False\n",
            "진짜 True입니다...\n",
            "정말로\n"
          ]
        }
      ],
      "source": [
        "#한글은 가나다라 순으로 앞에 있는 것이 작은 값을 갖는다.\n",
        "#python은 다음과 같이 문자열에도 비교 연산자 적용가능\n",
        "print(\"가방\"<\"하마\")\n",
        "print(\"가방\"<\"가방\")\n",
        "\n",
        "print(\"-----------------------------------------------\")\n",
        "#범위 구하기\n",
        "x=25\n",
        "print(10<x<30)\n",
        "print(40<x<60)\n",
        "\n",
        "#논리 연산자\n",
        "print(\"---not---\")\n",
        "print(not True)\n",
        "print(not False)\n",
        "print(\"---or---\")\n",
        "print(True or False)\n",
        "print(\"---and---\")\n",
        "print(True and False)\n",
        "\n",
        "print(\"-----------------------------------------------\")\n",
        "#if 조건문\n",
        "\"\"\"\n",
        "if 조건식:\n",
        "  body\n",
        "이때 if의 body부분은 (:) 다음 행의 들여쓰기 된 부분들이다.\n",
        "\"\"\"\n",
        "if True:\n",
        "  print(\"진짜 True입니다...\")\n",
        "  print(\"정말로\")\n"
      ]
    },
    {
      "cell_type": "code",
      "source": [
        "#날짜/시간 출력 프로그램\n",
        "import datetime #날짜/시간과 관련된 기능을 datetime모듈을 통해 가져온다.\n",
        "\n",
        "now=datetime.datetime.now() #현재 날짜/시간을 구한다.\n",
        "\n",
        "#출력\n",
        "print(now.year,\"년\")\n",
        "print(now.month,\"월\")\n",
        "print(now.day,\"일\")\n",
        "print(now.hour,\"시\")\n",
        "print(now.minute,\"분\")\n",
        "print(now.second,\"초\")\n",
        "\n",
        "print(\"{}년 {}월 {}일 {}시 {}분 {}초\".format(\n",
        "    now.year,\n",
        "    now.month,\n",
        "    now.day,\n",
        "    now.hour,\n",
        "    now.minute,\n",
        "    now.second\n",
        "))"
      ],
      "metadata": {
        "colab": {
          "base_uri": "https://localhost:8080/"
        },
        "id": "Zk38BS9Wlt0O",
        "outputId": "dfcfb255-7557-46a1-9e59-41cca2fbc263"
      },
      "execution_count": 8,
      "outputs": [
        {
          "output_type": "stream",
          "name": "stdout",
          "text": [
            "2025 년\n",
            "9 월\n",
            "1 일\n",
            "4 시\n",
            "47 분\n",
            "30 초\n",
            "2025년 9월 1일 4시 47분 30초\n"
          ]
        }
      ]
    },
    {
      "cell_type": "markdown",
      "source": [
        "if 조건문"
      ],
      "metadata": {
        "id": "fctU7i9Mt_VS"
      }
    },
    {
      "cell_type": "code",
      "source": [
        "#오전과 오후를 구분하는 프로그램\n",
        "import datetime\n",
        "\n",
        "now=datetime.datetime.now()\n",
        "\n",
        "#오전일 때\n",
        "if now.hour<12:\n",
        "    print(\"현재 시각은 {}시로 오전입니다.\".format(now.hour))\n",
        "\n",
        "#오후일 때\n",
        "if now.hour>=12:\n",
        "    print(\"현재 시각은 {}시로 오후입니다.\".format(now.hour))\n",
        "\n",
        ""
      ],
      "metadata": {
        "colab": {
          "base_uri": "https://localhost:8080/"
        },
        "id": "o-pzHmh1m1pC",
        "outputId": "d53293ee-201e-4671-823d-7842b4e0030e"
      },
      "execution_count": 9,
      "outputs": [
        {
          "output_type": "stream",
          "name": "stdout",
          "text": [
            "현재 시각은 4시로 오전입니다.\n"
          ]
        }
      ]
    },
    {
      "cell_type": "code",
      "source": [
        "#계절을 구분하는 프로그램\n",
        "import datetime\n",
        "\n",
        "now=datetime.datetime.now()\n",
        "\n",
        "#봄\n",
        "if 3<=now.month<=5:\n",
        "    print(\"이번 달은 {}월로 봄입니다.\".format(now.month))\n",
        "#여름\n",
        "if 6<=now.month<=8:\n",
        "    print(\"이번 달은 {}월로 여름입니다.\".format(now.month))\n",
        "#가을\n",
        "if 9<=now.month<=11:\n",
        "    print(\"이번 달은 {}월로 가을입니다.\".format(now.month))\n",
        "#겨울\n",
        "if now.month==12 or 1<=now.month<=2:\n",
        "    print(\"이번 달은 {}월로 겨울입니다.\".format(now.month))\n"
      ],
      "metadata": {
        "colab": {
          "base_uri": "https://localhost:8080/"
        },
        "id": "5EpRJgCannF-",
        "outputId": "08e7075e-d7ea-4932-c4cb-5ecce3c43c4a"
      },
      "execution_count": 10,
      "outputs": [
        {
          "output_type": "stream",
          "name": "stdout",
          "text": [
            "이번 달은 9월로 가을입니다.\n"
          ]
        }
      ]
    },
    {
      "cell_type": "code",
      "source": [
        "#짝홀 구분 프로그램\n",
        "number=input(\"정수 입력> \")\n",
        "\n",
        "last_ch=number[-1] #입력 값의 마지막 자리수 추출\n",
        "\n",
        "last_num=int(last_ch)\n",
        "\n",
        "#짝수 확인\n",
        "if last_num==0\\\n",
        "    or last_num==2\\\n",
        "    or last_num==4\\\n",
        "    or last_num==6\\\n",
        "    or last_num==8:\n",
        "    print(\"짝수입니다.\")\n",
        "\n",
        "\n",
        "#홀수 확인\n",
        "if last_num==1\\\n",
        "    or last_num==3\\\n",
        "    or last_num==5\\\n",
        "    or last_num==7\\\n",
        "    or last_num==9:\n",
        "    print(\"홀수입니다.\")"
      ],
      "metadata": {
        "colab": {
          "base_uri": "https://localhost:8080/"
        },
        "id": "JZxG5yPQojcr",
        "outputId": "32fd969c-e569-488b-d230-8287f5fbb2c7"
      },
      "execution_count": 11,
      "outputs": [
        {
          "output_type": "stream",
          "name": "stdout",
          "text": [
            "정수 입력> 1000000000009\n",
            "홀수입니다.\n"
          ]
        }
      ]
    },
    {
      "cell_type": "code",
      "source": [
        "#짝홀 구분(in연산자로 개선)\n",
        "number=input(\"정수 입력> \")\n",
        "last_ch=number[-1]\n",
        "\n",
        "#짝수 확인\n",
        "if last_ch in\"02468\": #last_ch에 저장된 문자형 숫자가 \"02468\"라는 문자열에 포함되면 짝수\n",
        "    print(\"짝수입니다.\")\n",
        "#홀수 확인\n",
        "if last_ch in\"13579\": #last_ch에 저장된 문자형 숫자가 \"13579\"라는 문자열에 포함되면 홀수\n",
        "    print(\"홀수입니다.\")"
      ],
      "metadata": {
        "colab": {
          "base_uri": "https://localhost:8080/"
        },
        "id": "asW0DPgypJKx",
        "outputId": "1e61890f-f5ba-4f0a-826f-e116ba4727ea"
      },
      "execution_count": 12,
      "outputs": [
        {
          "output_type": "stream",
          "name": "stdout",
          "text": [
            "정수 입력> 10008\n",
            "짝수입니다.\n"
          ]
        }
      ]
    },
    {
      "cell_type": "code",
      "source": [
        "#짝홀 구분(컴퓨터는 모든 것을 숫자로 계산하기에 문자열 연산보다 숫자 연산이 더 빠르다. 그러므로 숫자 연산을 통해 짝홀 구분)\n",
        "number=input(\"정수 입력> \")\n",
        "number=int(number)\n",
        "\n",
        "#짝수 확인\n",
        "if number%2==0:\n",
        "    print(\"짝수입니다.\")\n",
        "\n",
        "#홀수 확인\n",
        "if number%2==1:\n",
        "    print(\"홀수입니다.\")\n",
        ""
      ],
      "metadata": {
        "colab": {
          "base_uri": "https://localhost:8080/"
        },
        "id": "9cSEB-L_p1NN",
        "outputId": "e97cdef8-c52a-4f7e-eb5b-4c3aa911c11d"
      },
      "execution_count": 14,
      "outputs": [
        {
          "output_type": "stream",
          "name": "stdout",
          "text": [
            "정수 입력> 102934\n",
            "짝수입니다.\n"
          ]
        }
      ]
    },
    {
      "cell_type": "code",
      "source": [
        "#짝홀 구분\n",
        "#짝수가 아니면 반드시 홀수이고, 홀수가 아니면 반드시 짝수이다.\n",
        "#그래서 else 구문을 이용하여 프로그램을 개선한다.\n",
        "#왜냐, if-else구문은 조건 비교를 한 번만 하기 때문이다. 즉 이전의 코드보다 두 배 효율적\n",
        "number=input(\"정수 입력> \")\n",
        "number=int(number)\n",
        "\n",
        "#짝수 확인\n",
        "if number%2==0:\n",
        "    print(\"짝수입니다.\")\n",
        "\n",
        "#홀수 확인\n",
        "else:\n",
        "    print(\"홀수입니다.\")"
      ],
      "metadata": {
        "colab": {
          "base_uri": "https://localhost:8080/"
        },
        "id": "70572Oi_q5BW",
        "outputId": "5cb5f695-0681-4ab6-d642-4fdd7a4a1d3d"
      },
      "execution_count": 15,
      "outputs": [
        {
          "output_type": "stream",
          "name": "stdout",
          "text": [
            "정수 입력> 12395\n",
            "홀수입니다.\n"
          ]
        }
      ]
    },
    {
      "cell_type": "code",
      "source": [
        "#계절을 구분하는 프로그램 개선\n",
        "#if조건문과 else구문 사이 elif구문을 입력하여 프로그램을 개선한다.\n",
        "import datetime\n",
        "now=datetime.datetime.now()\n",
        "month=now.month\n",
        "\n",
        "if 3<=month<=5:\n",
        "    print(\"현재는 봄입니다.\")\n",
        "elif 6<=month<=8:\n",
        "    print(\"현재는 여름입니다.\")\n",
        "elif 9<=month<=11:\n",
        "    print(\"현재는 가을입니다.\")\n",
        "else:\n",
        "    print(\"현재는 겨울입니다.\")"
      ],
      "metadata": {
        "colab": {
          "base_uri": "https://localhost:8080/"
        },
        "id": "8GPs6d3XrWVt",
        "outputId": "ed1f323b-fcd6-46e5-80b2-e7e360730da2"
      },
      "execution_count": 16,
      "outputs": [
        {
          "output_type": "stream",
          "name": "stdout",
          "text": [
            "현재는 가을입니다.\n"
          ]
        }
      ]
    },
    {
      "cell_type": "code",
      "source": [
        "#학점에 대한 평가\n",
        "score=float(input(\"학점을 입력하시오>> \"))\n",
        "\n",
        "if score==4.5:\n",
        "  print(\"신\")\n",
        "elif 4.0<=score<4.5:\n",
        "  print(\"교수님의 사랑\")\n",
        "elif 3.5<=score<4.0:\n",
        "  print(\"평타\")\n",
        "elif 3.0<=score<3.5:\n",
        "  print(\"분발합시다.\")\n",
        "elif 2.5<=score<3.0:\n",
        "  print(\"수업은 안 듣고 출석만하면 무슨 의미가 있니\")\n",
        "else:\n",
        "  print(\"학사 경고\")"
      ],
      "metadata": {
        "colab": {
          "base_uri": "https://localhost:8080/"
        },
        "id": "on2mOIL7sWRK",
        "outputId": "34e1e073-030a-41c7-f4c6-dbd57a8f011d"
      },
      "execution_count": 20,
      "outputs": [
        {
          "output_type": "stream",
          "name": "stdout",
          "text": [
            "학점을 입력하시오>> 4.5\n",
            "신\n"
          ]
        }
      ]
    },
    {
      "cell_type": "code",
      "source": [
        "#학점에 대한 평가 개선\n",
        "#else구문과 elif구문은 이전의 조건이 맞지 않을 때 넘어오는 부분이다.\n",
        "#그러므로 위에서 이미 제외된 조건을 한 번 더 검사할 필요는 없다.\n",
        "#다음과 같이 개선하면 이전 코드보다 각 조건식에서 조건 비교를 반밖에 하지 않기에 코드 가독성이 더 향상된다.\n",
        "score=float(input(\"학점을 입력하시오>> \"))\n",
        "\n",
        "if score==4.5:\n",
        "  print(\"신\")\n",
        "elif 4.0<=score:\n",
        "  print(\"교수님의 사랑\")\n",
        "elif 3.5<=score:\n",
        "  print(\"평타\")\n",
        "elif 3.0<=score:\n",
        "  print(\"분발합시다.\")\n",
        "elif 2.5<=score:\n",
        "  print(\"수업은 안 듣고 출석만하면 무슨 의미가 있니\")\n",
        "else:\n",
        "  print(\"학사 경고\")"
      ],
      "metadata": {
        "colab": {
          "base_uri": "https://localhost:8080/"
        },
        "id": "Ae9ZT3CItJsp",
        "outputId": "5e3d4346-c535-4192-dd51-375a903cc2b9"
      },
      "execution_count": 22,
      "outputs": [
        {
          "output_type": "stream",
          "name": "stdout",
          "text": [
            "학점을 입력하시오>> 3.5\n",
            "평타\n"
          ]
        }
      ]
    },
    {
      "cell_type": "markdown",
      "source": [
        "\n",
        "if조건문의 매개변수에 불이 아닌 다른 값이 오면 이를 자동으로 불로 변환해서 처리한다. 숫자0과 0.0, None, 빈 문자열, 빈 바이트열, 빈 리스트, 빈 튜플, 빈 딕셔너리 등 빈 컨테이너는 False로 변환되고 이외 모든 값들은 True로 변환된다."
      ],
      "metadata": {
        "id": "JJ-bNNdEudoN"
      }
    },
    {
      "cell_type": "code",
      "source": [
        "print(\"if 조건문에 0넣기\")\n",
        "if 0:\n",
        "  print(\"0은 True로 변환된다.\")\n",
        "else :\n",
        "  print(\"0은 False로 변환된다.\")\n",
        "print()\n",
        "\n",
        "print(\"if조건문에 빈 문자열 넣기\")\n",
        "if \"\":\n",
        "  print(\"빈 문자열은 True로 변환된다.\")\n",
        "else:\n",
        "  print(\"빈 문자열은 False로 변환된다.\")"
      ],
      "metadata": {
        "colab": {
          "base_uri": "https://localhost:8080/"
        },
        "id": "zASRtUhNt6Mj",
        "outputId": "d21d892a-b227-4a50-86f8-260247f1b373"
      },
      "execution_count": 24,
      "outputs": [
        {
          "output_type": "stream",
          "name": "stdout",
          "text": [
            "if 조건문에 0넣기\n",
            "0은 False로 변환된다.\n",
            "\n",
            "if조건문에 빈 문자열 넣기\n",
            "빈 문자열은 False로 변환된다.\n"
          ]
        }
      ]
    },
    {
      "cell_type": "markdown",
      "source": [
        "pass키워드\n",
        "\n",
        "조건문, 반복문, 함수, 클래스 등의 body부분을 비워두고 싶을 때 그냥 공란으로 두게 되면 오류가 발생하므로 pass키워드를 사용하여 body부분을 비워둔다."
      ],
      "metadata": {
        "id": "wvrhPK3evMmL"
      }
    },
    {
      "cell_type": "code",
      "source": [
        "number=int(input(\"정수 입력> \"))\n",
        "\n",
        "if number>0:\n",
        "  pass  #사실상 공란인 상태이다.\n",
        "else:\n",
        "  pass"
      ],
      "metadata": {
        "colab": {
          "base_uri": "https://localhost:8080/"
        },
        "id": "x1T4Zgz_vlku",
        "outputId": "d7756801-74d2-4d4a-db5b-1f51f9ec6554"
      },
      "execution_count": 25,
      "outputs": [
        {
          "name": "stdout",
          "output_type": "stream",
          "text": [
            "정수 입력> 5\n"
          ]
        }
      ]
    },
    {
      "cell_type": "markdown",
      "source": [
        "raise NotImplementedError는 아직 구현하지 않은 부분이라는 오류를 강제로 발생시키는 구문이다."
      ],
      "metadata": {
        "id": "7EbdZj_Dv439"
      }
    },
    {
      "cell_type": "code",
      "source": [
        "number=int(input(\"정수 입력> \"))\n",
        "\n",
        "if number>0:\n",
        "  raise NotImplementedError\n",
        "else:\n",
        "  raise NotImplementedError"
      ],
      "metadata": {
        "colab": {
          "base_uri": "https://localhost:8080/",
          "height": 228
        },
        "id": "eCdFPyZwwCJ-",
        "outputId": "b97ea855-5665-4a94-a7cc-8c9ae4ba47ad"
      },
      "execution_count": 26,
      "outputs": [
        {
          "name": "stdout",
          "output_type": "stream",
          "text": [
            "정수 입력> 77\n"
          ]
        },
        {
          "output_type": "error",
          "ename": "NotImplementedError",
          "evalue": "",
          "traceback": [
            "\u001b[0;31m---------------------------------------------------------------------------\u001b[0m",
            "\u001b[0;31mNotImplementedError\u001b[0m                       Traceback (most recent call last)",
            "\u001b[0;32m/tmp/ipython-input-2795562950.py\u001b[0m in \u001b[0;36m<cell line: 0>\u001b[0;34m()\u001b[0m\n\u001b[1;32m      2\u001b[0m \u001b[0;34m\u001b[0m\u001b[0m\n\u001b[1;32m      3\u001b[0m \u001b[0;32mif\u001b[0m \u001b[0mnumber\u001b[0m\u001b[0;34m>\u001b[0m\u001b[0;36m0\u001b[0m\u001b[0;34m:\u001b[0m\u001b[0;34m\u001b[0m\u001b[0;34m\u001b[0m\u001b[0m\n\u001b[0;32m----> 4\u001b[0;31m   \u001b[0;32mraise\u001b[0m \u001b[0mNotImplementedError\u001b[0m\u001b[0;34m\u001b[0m\u001b[0;34m\u001b[0m\u001b[0m\n\u001b[0m\u001b[1;32m      5\u001b[0m \u001b[0;32melse\u001b[0m\u001b[0;34m:\u001b[0m\u001b[0;34m\u001b[0m\u001b[0;34m\u001b[0m\u001b[0m\n\u001b[1;32m      6\u001b[0m   \u001b[0;32mraise\u001b[0m \u001b[0mNotImplementedError\u001b[0m\u001b[0;34m\u001b[0m\u001b[0;34m\u001b[0m\u001b[0m\n",
            "\u001b[0;31mNotImplementedError\u001b[0m: "
          ]
        }
      ]
    }
  ]
}