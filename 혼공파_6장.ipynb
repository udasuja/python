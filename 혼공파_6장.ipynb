{
  "nbformat": 4,
  "nbformat_minor": 0,
  "metadata": {
    "colab": {
      "provenance": []
    },
    "kernelspec": {
      "name": "python3",
      "display_name": "Python 3"
    },
    "language_info": {
      "name": "python"
    }
  },
  "cells": [
    {
      "cell_type": "markdown",
      "source": [
        "error에는 크게 2가지 종류가 있다.\n",
        "1. 프로그램 실행 전에 발생하는 오류 -> 구문 오류(SyntaxError)\n",
        "2. 프로그램 실행 중에 발생하는 오류 -> 예외(exception) 혹은 런타임 오류(runtime error)\n",
        "\n",
        "구문 오류는 괄호의 개수, 들여쓰기 문제 등으로 인해 프로그램이 실행되기도 전에 발생하는 오류이다.\n",
        "\n",
        "프로그램이 일단 실행된 다음, 실행 중에 발생하는 오류를 예외 혹은 런타임 오류라 부른다.\n",
        "\n",
        "예외를 해결하는 모든 것을 exception handler라 부른다. 방법은 2가지이다.\n",
        "1. 조건문을 사용하는 방법\n",
        "2. try 구문을 사용하는 방법\n"
      ],
      "metadata": {
        "id": "pJjbgh9psa0G"
      }
    },
    {
      "cell_type": "code",
      "execution_count": 1,
      "metadata": {
        "colab": {
          "base_uri": "https://localhost:8080/",
          "height": 237
        },
        "id": "r_WwUJBSrPoc",
        "outputId": "b3af5cfa-87c8-4238-b2d3-eedb3db61110"
      },
      "outputs": [
        {
          "name": "stdout",
          "output_type": "stream",
          "text": [
            "정수 입력> 4cm\n"
          ]
        },
        {
          "output_type": "error",
          "ename": "ValueError",
          "evalue": "invalid literal for int() with base 10: '4cm'",
          "traceback": [
            "\u001b[0;31m---------------------------------------------------------------------------\u001b[0m",
            "\u001b[0;31mValueError\u001b[0m                                Traceback (most recent call last)",
            "\u001b[0;32m/tmp/ipython-input-219835963.py\u001b[0m in \u001b[0;36m<cell line: 0>\u001b[0;34m()\u001b[0m\n\u001b[1;32m      1\u001b[0m \u001b[0;31m#조건문을 사용해서 예외를 처리하는 방법(=기본 예외 처리)\u001b[0m\u001b[0;34m\u001b[0m\u001b[0;34m\u001b[0m\u001b[0m\n\u001b[0;32m----> 2\u001b[0;31m \u001b[0mnumber_input_a\u001b[0m\u001b[0;34m=\u001b[0m\u001b[0mint\u001b[0m\u001b[0;34m(\u001b[0m\u001b[0minput\u001b[0m\u001b[0;34m(\u001b[0m\u001b[0;34m\"정수 입력> \"\u001b[0m\u001b[0;34m)\u001b[0m\u001b[0;34m)\u001b[0m\u001b[0;34m\u001b[0m\u001b[0;34m\u001b[0m\u001b[0m\n\u001b[0m\u001b[1;32m      3\u001b[0m \u001b[0;34m\u001b[0m\u001b[0m\n\u001b[1;32m      4\u001b[0m \u001b[0mprint\u001b[0m\u001b[0;34m(\u001b[0m\u001b[0;34m\"원의 반지름:\"\u001b[0m\u001b[0;34m,\u001b[0m\u001b[0mnumber_input_a\u001b[0m\u001b[0;34m)\u001b[0m\u001b[0;34m\u001b[0m\u001b[0;34m\u001b[0m\u001b[0m\n\u001b[1;32m      5\u001b[0m \u001b[0mprint\u001b[0m\u001b[0;34m(\u001b[0m\u001b[0;34m\"원의 둘레:\"\u001b[0m\u001b[0;34m,\u001b[0m\u001b[0;36m2\u001b[0m\u001b[0;34m*\u001b[0m\u001b[0;36m3.14\u001b[0m\u001b[0;34m*\u001b[0m\u001b[0mnumber_input_a\u001b[0m\u001b[0;34m)\u001b[0m\u001b[0;34m\u001b[0m\u001b[0;34m\u001b[0m\u001b[0m\n",
            "\u001b[0;31mValueError\u001b[0m: invalid literal for int() with base 10: '4cm'"
          ]
        }
      ],
      "source": [
        "#조건문을 사용해서 예외를 처리하는 방법(=기본 예외 처리)\n",
        "number_input_a=int(input(\"정수 입력> \"))\n",
        "#이때 사용자가 입력으로 정수가 아닌 7cm와 같은 값을 입력한 예외적인 상황도 생각해야 한다.\n",
        "\n",
        "print(\"원의 반지름:\",number_input_a)\n",
        "print(\"원의 둘레:\",2*3.14*number_input_a)\n",
        "print(\"원의 넓이:\",3.14*number_input_a*number_input_a)"
      ]
    },
    {
      "cell_type": "code",
      "source": [
        "#정수를 입력하지 않았을 때를 조건으로 구분해서 해당 상황일 때 다른 처리를 하도록 설정해야 예외가 발생하지 않는다.\n",
        "\n",
        "\"\"\"\n",
        "실행 예시:\n",
        "\n",
        "    정수 입력> 7cm\n",
        "    정수를 입력하지 않았습니다.\n",
        "\n",
        "프로그램이 중간에 강제로 죽지 않고 끝까지 정상 작동하다가 종료된다.\n",
        "\"\"\"\n",
        "\n",
        "user_input_a=input(\"정수 입력> \")\n",
        "\n",
        "if user_input_a.isdigit():  #사용자 입력이 숫자로만 구성되어 있을 때\n",
        "  number_input_a=int(user_input_a)\n",
        "  print(\"원의 반지름:\",number_input_a)\n",
        "  print(\"원의 둘레:\",2*3.14*number_input_a)\n",
        "  print(\"원의 넓이:\",3.14*number_input_a*number_input_a)\n",
        "else:\n",
        "  print(\"정수를 입력하지 않았습니다.\")\n",
        "\n"
      ],
      "metadata": {
        "colab": {
          "base_uri": "https://localhost:8080/"
        },
        "id": "B-Z8RtbxuAem",
        "outputId": "5a9cc379-bfb2-4a80-95e4-bbaa5dd9ff54"
      },
      "execution_count": 12,
      "outputs": [
        {
          "output_type": "stream",
          "name": "stdout",
          "text": [
            "정수 입력> 7cm\n",
            "정수를 입력하지 않았습니다.\n"
          ]
        }
      ]
    },
    {
      "cell_type": "code",
      "source": [
        "user_input_a=input(\"정수 입력> \")\n",
        "\n",
        "if user_input_a.isdigit():  #사용자 입력이 숫자로만 구성되어 있을 때\n",
        "  number_input_a=int(user_input_a)\n",
        "  print(\"원의 반지름:\",number_input_a)\n",
        "  print(\"원의 둘레:\",2*3.14*number_input_a)\n",
        "  print(\"원의 넓이:\",3.14*number_input_a*number_input_a)\n",
        "else:\n",
        "  print(\"정수를 입력하지 않았습니다.\")"
      ],
      "metadata": {
        "colab": {
          "base_uri": "https://localhost:8080/"
        },
        "id": "cqyezkL0ygdR",
        "outputId": "f99a115a-6f71-4149-907e-f728a7c09c62"
      },
      "execution_count": 13,
      "outputs": [
        {
          "output_type": "stream",
          "name": "stdout",
          "text": [
            "정수 입력> 7\n",
            "원의 반지름: 7\n",
            "원의 둘레: 43.96\n",
            "원의 넓이: 153.86\n"
          ]
        }
      ]
    },
    {
      "cell_type": "markdown",
      "source": [
        "try except구문\n",
        "\n",
        "    try:\n",
        "      예외가 발생할 가능성이 있는 코드\n",
        "    except:\n",
        "      예외가 발생했을 때 실행할 코드\n"
      ],
      "metadata": {
        "id": "EROyx9NFvY5t"
      }
    },
    {
      "cell_type": "code",
      "source": [
        "try:\n",
        "  number_input_a=int(input(\"정수 입력> \"))  #예외가 발생할 가능성이 있는 구문\n",
        "  #위 코드에서 예외가 발생하지 않으면 자연스럽게 다음 코드를 실행한다.\n",
        "  print(\"원의 반지름:\",number_input_a)  #예외가 발생할 가능성이 있는 구문\n",
        "  print(\"원의 둘레:\",2*3.14*number_input_a) #예외가 발생할 가능성이 있는 구문\n",
        "  print(\"원의 넓이:\",3.14*number_input_a*number_input_a)  #예외가 발생할 가능성이 있는 구문\n",
        "except:\n",
        "  print(\"무언가 잘못되었습니다.\") #예외가 발생했을 때 실행할 구문"
      ],
      "metadata": {
        "colab": {
          "base_uri": "https://localhost:8080/"
        },
        "id": "2GyLH_FcvUXt",
        "outputId": "2e187832-dc6b-437b-f2f6-b4fca983d6cf"
      },
      "execution_count": 7,
      "outputs": [
        {
          "output_type": "stream",
          "name": "stdout",
          "text": [
            "정수 입력> 7cm\n",
            "무언가 잘못되었습니다.\n"
          ]
        }
      ]
    },
    {
      "cell_type": "code",
      "source": [
        "try:\n",
        "  number_input_a=int(input(\"정수 입력> \"))  #예외가 발생할 가능성이 있는 구문\n",
        "  #위 코드에서 예외가 발생하지 않으면 자연스럽게 다음 코드를 실행한다.\n",
        "  print(\"원의 반지름:\",number_input_a)  #예외가 발생할 가능성이 있는 구문\n",
        "  print(\"원의 둘레:\",2*3.14*number_input_a) #예외가 발생할 가능성이 있는 구문\n",
        "  print(\"원의 넓이:\",3.14*number_input_a*number_input_a)  #예외가 발생할 가능성이 있는 구문\n",
        "except:\n",
        "  print(\"무언가 잘못되었습니다.\") #예외가 발생했을 때 실행할 구문"
      ],
      "metadata": {
        "colab": {
          "base_uri": "https://localhost:8080/"
        },
        "id": "_fpw_7yVycGv",
        "outputId": "d0f3f811-d666-4401-c9f9-c4b1489af612"
      },
      "execution_count": 11,
      "outputs": [
        {
          "output_type": "stream",
          "name": "stdout",
          "text": [
            "정수 입력> 8\n",
            "원의 반지름: 8\n",
            "원의 둘레: 50.24\n",
            "원의 넓이: 200.96\n"
          ]
        }
      ]
    },
    {
      "cell_type": "code",
      "source": [
        "#예외가 발생했을 때 딱히 실행할 구문이 없으면 pass라는 keyword를 사용한다.\n",
        "list_input_a=[\"52\",\"273\",\"32\",\"스파이\",\"103\"]\n",
        "\n",
        "list_number=[]\n",
        "for item in list_input_a:\n",
        "  #list_input_a라는 list에 있는 문자열 중 숫자로 변환가능한 것은 숫자로 변환해서 list에 추가한다\n",
        "  #만약 숫자로 변환할 수 없는 문자열이면 float(item)를 실행할 때 예외가 발생하고, except로 넘어가 pass실행\n",
        "  #예외가 발생하지 않을 때만 list_number.append(item)를 실행하여 list_number에 element를 추가한다.\n",
        "  try:\n",
        "    float(item)\n",
        "    list_number.append(item)\n",
        "  except:\n",
        "    pass  #try의 body중 어느 한 부분에서 예외는 발생했는데, 딱히 실행할 부분은 없다.\n",
        "print(\"{} 내부에 있는 숫자는\".format(list_input_a))\n",
        "print(\"{}입니다.\".format(list_number))"
      ],
      "metadata": {
        "colab": {
          "base_uri": "https://localhost:8080/"
        },
        "id": "kZ4jms1owSug",
        "outputId": "c007920b-e4e2-406b-b2d8-7bc288ef6ee8"
      },
      "execution_count": 8,
      "outputs": [
        {
          "output_type": "stream",
          "name": "stdout",
          "text": [
            "['52', '273', '32', '스파이', '103'] 내부에 있는 숫자는\n",
            "['52', '273', '32', '103']입니다.\n"
          ]
        }
      ]
    },
    {
      "cell_type": "markdown",
      "source": [
        "try except else구문\n",
        "\n",
        "    try:\n",
        "      예외가 발생할 가능성이 있는 코드\n",
        "    except:\n",
        "      예외가 발생했을 때 실행할 코드\n",
        "    else:\n",
        "      예외가 발생하지 않았을 때 실행할 코드"
      ],
      "metadata": {
        "id": "VPWd-2QgxuMI"
      }
    },
    {
      "cell_type": "code",
      "source": [
        "try:\n",
        "  number_input_a=int(input(\"정수 입력> \"))\n",
        "except:\n",
        "  print(\"정수를 입력하지 않았습니다.\")\n",
        "else:\n",
        "  print(\"원의 반지름:\",number_input_a)\n",
        "  print(\"원의 둘레:\",2*3.14*number_input_a)\n",
        "  print(\"원의 넓이:\",3.14*number_input_a*number_input_a)"
      ],
      "metadata": {
        "colab": {
          "base_uri": "https://localhost:8080/"
        },
        "id": "qOavvEWXyGB-",
        "outputId": "be4c9c30-b6ea-4cb0-e08a-816c0d22ca71"
      },
      "execution_count": 9,
      "outputs": [
        {
          "output_type": "stream",
          "name": "stdout",
          "text": [
            "정수 입력> 3\n",
            "원의 반지름: 3\n",
            "원의 둘레: 18.84\n",
            "원의 넓이: 28.259999999999998\n"
          ]
        }
      ]
    },
    {
      "cell_type": "code",
      "source": [
        "try:\n",
        "  number_input_a=int(input(\"정수 입력> \"))\n",
        "except:\n",
        "  print(\"정수를 입력하지 않았습니다.\")\n",
        "else:\n",
        "  print(\"원의 반지름:\",number_input_a)\n",
        "  print(\"원의 둘레:\",2*3.14*number_input_a)\n",
        "  print(\"원의 넓이:\",3.14*number_input_a*number_input_a)"
      ],
      "metadata": {
        "colab": {
          "base_uri": "https://localhost:8080/"
        },
        "id": "Msuu8h1hyYhI",
        "outputId": "dd068863-d38e-4dce-b1db-f4d2f700439d"
      },
      "execution_count": 10,
      "outputs": [
        {
          "output_type": "stream",
          "name": "stdout",
          "text": [
            "정수 입력> 정수!!!!\n",
            "정수를 입력하지 않았습니다.\n"
          ]
        }
      ]
    },
    {
      "cell_type": "markdown",
      "source": [
        "    try:\n",
        "      예외가 발생할 가능성이 있는 코드\n",
        "    except:\n",
        "      예외가 발생했을 때 실행할 코드\n",
        "    else:\n",
        "      예외가 발생하지 않았을 때 실행할 코드\n",
        "    finally:\n",
        "      무조건 실행할 코드"
      ],
      "metadata": {
        "id": "VcHWrre1yoSY"
      }
    },
    {
      "cell_type": "code",
      "source": [
        "try:\n",
        "  number_input_a=int(input(\"정수 입력> \"))\n",
        "\n",
        "  print(\"원의 반지름:\",number_input_a)\n",
        "  print(\"원의 둘레:\",2*3.14*number_input_a)\n",
        "  print(\"원의 넓이:\",3.14*number_input_a*number_input_a)\n",
        "except:\n",
        "  print(\"정수를 입력해달라고 했잖아요?!\")\n",
        "else:\n",
        "  print(\"예외가 발생하지 않았습니다.\")\n",
        "finally:\n",
        "  print(\"일단 프로그램이 어떻게든 끝났습니다.\")"
      ],
      "metadata": {
        "colab": {
          "base_uri": "https://localhost:8080/"
        },
        "id": "xR1LAWYqynNW",
        "outputId": "c2e560f5-298c-4d7e-bc40-9bf42b2769ef"
      },
      "execution_count": 14,
      "outputs": [
        {
          "output_type": "stream",
          "name": "stdout",
          "text": [
            "정수 입력> 7\n",
            "원의 반지름: 7\n",
            "원의 둘레: 43.96\n",
            "원의 넓이: 153.86\n",
            "예외가 발생하지 않았습니다.\n",
            "일단 프로그램이 어떻게든 끝났습니다.\n"
          ]
        }
      ]
    },
    {
      "cell_type": "code",
      "source": [
        "try:\n",
        "  number_input_a=int(input(\"정수 입력> \"))\n",
        "\n",
        "  print(\"원의 반지름:\",number_input_a)\n",
        "  print(\"원의 둘레:\",2*3.14*number_input_a)\n",
        "  print(\"원의 넓이:\",3.14*number_input_a*number_input_a)\n",
        "except:\n",
        "  print(\"정수를 입력해달라고 했잖아요?!\")\n",
        "else:\n",
        "  print(\"예외가 발생하지 않았습니다.\")\n",
        "finally:\n",
        "  print(\"일단 프로그램이 어떻게든 끝났습니다.\")"
      ],
      "metadata": {
        "colab": {
          "base_uri": "https://localhost:8080/"
        },
        "id": "iKzIm5a4zLiv",
        "outputId": "bca5ceb5-86b5-46c5-8b8a-e73f07199cea"
      },
      "execution_count": 15,
      "outputs": [
        {
          "output_type": "stream",
          "name": "stdout",
          "text": [
            "정수 입력> 7cm\n",
            "정수를 입력해달라고 했잖아요?!\n",
            "일단 프로그램이 어떻게든 끝났습니다.\n"
          ]
        }
      ]
    },
    {
      "cell_type": "markdown",
      "source": [
        "try 구문은 단독으로 사용할 수 없으며, 반드시 except구문 또는 finally 구문과 함께 사용해야 한다.\n",
        "\n",
        "else 구문은 반드시 except 구문 뒤에 사용해야 한다."
      ],
      "metadata": {
        "id": "trvOH1pFzYqy"
      }
    },
    {
      "cell_type": "markdown",
      "source": [
        "file을 열고 있으면 해당 file을 이동하거나 덮어 씌우거나 하는 것이 불가능해진다. 따라서 프로그램에서 file을 open했으면 무조건 close해야한다. file을 제대로 닫았는지는 file object의 closed 속성으로 알 수 있다."
      ],
      "metadata": {
        "id": "YXtV32li0nKx"
      }
    },
    {
      "cell_type": "code",
      "source": [
        "try:\n",
        "  file=open(\"info.txt\",\"w\")\n",
        "  #여러 가지 처리를 수행한다.\n",
        "  #file을 닫는다.\n",
        "  file.close()\n",
        "except Exception as e:\n",
        "  print(e)\n",
        "\n",
        "print(\"파일이 제대로 닫혔는지 확인하기\")\n",
        "print(\"file.closed:\",file.closed)\n",
        "\n",
        "#이 코드처럼 별 기능 없는 프로그램이면 제대로 file이 닫혀지는데,\n",
        "#try에서 여러가지 처리를 수행할 경우\n",
        "#그 중에서 예외가 발생해서 try구문 중간에 튕겨 버리면 file이 제대로 닫히지 않는 문제가 발생할 수 있다.\n",
        "#그렇기에 finally구문을 사용하여 반드시 file을 닫도록 할 수 있다."
      ],
      "metadata": {
        "colab": {
          "base_uri": "https://localhost:8080/"
        },
        "id": "wouXOfWxzi0N",
        "outputId": "243a4122-b659-45df-c89f-c26f751d25b1"
      },
      "execution_count": 16,
      "outputs": [
        {
          "output_type": "stream",
          "name": "stdout",
          "text": [
            "파일이 제대로 닫혔는지 확인하기\n",
            "file.closed: True\n"
          ]
        }
      ]
    },
    {
      "cell_type": "code",
      "source": [
        "try:\n",
        "  file=open(\"info.txt\",\"w\")\n",
        "  예외.발생해라()\n",
        "except Exception as e:\n",
        "  print(e)\n",
        "print(\"파일이 제대로 닫혔는지 확인하기\")\n",
        "print(\"file.closed:\",file.closed)"
      ],
      "metadata": {
        "colab": {
          "base_uri": "https://localhost:8080/"
        },
        "id": "gN-dbElQ20pI",
        "outputId": "3ea3e03d-99d8-44c4-8ea9-3a22e745c319"
      },
      "execution_count": 21,
      "outputs": [
        {
          "output_type": "stream",
          "name": "stdout",
          "text": [
            "name '예외' is not defined\n",
            "파일이 제대로 닫혔는지 확인하기\n",
            "file.closed: False\n"
          ]
        }
      ]
    },
    {
      "cell_type": "code",
      "source": [
        "try:\n",
        "  file=open(\"info.txt\",\"w\")\n",
        "  예외.발생해라()\n",
        "except Exception as e:\n",
        "  print(e)\n",
        "finally:\n",
        "  file.close()\n",
        "print(\"파일이 제대로 닫혔는지 확인하기\")\n",
        "print(\"file.closed:\",file.closed)"
      ],
      "metadata": {
        "colab": {
          "base_uri": "https://localhost:8080/"
        },
        "id": "gPrdVGO-2Z5k",
        "outputId": "49e97dde-3186-497e-f6c5-a001938cf027"
      },
      "execution_count": 20,
      "outputs": [
        {
          "output_type": "stream",
          "name": "stdout",
          "text": [
            "name '예외' is not defined\n",
            "파일이 제대로 닫혔는지 확인하기\n",
            "file.closed: True\n"
          ]
        }
      ]
    },
    {
      "cell_type": "code",
      "source": [
        "#하지만 굳이 finally를 사용할 필요는 없다.\n",
        "#다음 코드와 같이 try except 구문이 모두 끝난 후에 file을 닫으면 아무 문제가 없다.\n",
        "try:\n",
        "  file=open(\"info.txt\",\"w\")\n",
        "  예외.발생하라()\n",
        "except Exception as e:\n",
        "  print(e)\n",
        "\n",
        "file.close()\n",
        "print(\"file이 제대로 닫혔는지 확인하기\")\n",
        "print(\"file.closed:\",file.closed)"
      ],
      "metadata": {
        "colab": {
          "base_uri": "https://localhost:8080/"
        },
        "id": "JlQI8OXV23n5",
        "outputId": "2ed32d86-2442-4ab7-ac60-cbe3fe8f789c"
      },
      "execution_count": 22,
      "outputs": [
        {
          "output_type": "stream",
          "name": "stdout",
          "text": [
            "name '예외' is not defined\n",
            "file이 제대로 닫혔는지 확인하기\n",
            "file.closed: True\n"
          ]
        }
      ]
    },
    {
      "cell_type": "code",
      "source": [
        "#finally 구문은 반복문 또는 함수 내부에 있을 때 위력을 발휘한다.\n",
        "def test():\n",
        "  print(\"test() 함수의 첫 줄입니다.\")\n",
        "  try:\n",
        "    print(\"try 구문이 실행되었습니다.\")\n",
        "    return    #try 구문 중간에서 탈출해도 finally 구문은 무조건 실행된다.\n",
        "    print(\"try 구문의 return 키워드 뒤입니다.\")\n",
        "  except:\n",
        "    print(\"except 구문이 실행되었습니다.\")\n",
        "  else:\n",
        "    print(\"else 구문이 실행되었습니다.\")\n",
        "  finally:\n",
        "    print(\"finally 구문이 실행되었습니다.\")\n",
        "  print(\"test()함수의 마지막 줄입니다.\")\n",
        "\n",
        "test()"
      ],
      "metadata": {
        "colab": {
          "base_uri": "https://localhost:8080/"
        },
        "id": "l69ckwfB4eZp",
        "outputId": "b062aa6b-1087-4c6d-d55d-40071bc9d695"
      },
      "execution_count": 23,
      "outputs": [
        {
          "output_type": "stream",
          "name": "stdout",
          "text": [
            "test() 함수의 첫 줄입니다.\n",
            "try 구문이 실행되었습니다.\n",
            "finally 구문이 실행되었습니다.\n"
          ]
        }
      ]
    },
    {
      "cell_type": "code",
      "source": [
        "def write_text_file(filename,text):\n",
        "  try:\n",
        "    file=open(filename,\"w\")\n",
        "    return\n",
        "    file.write(text)\n",
        "  except Exception as e:\n",
        "    print(e)\n",
        "  finally:\n",
        "    file.close()\n",
        "\n",
        "write_text_file(\"test.txt\",\"안녕하세요!\")\n",
        "with open(\"test.txt\",\"r\") as f:\n",
        "  contents=f.read()\n",
        "print(contents)\n",
        "#try구문에서 file.write(text)를 실행하기 전에 함수를 종료하기에 test.txt파일에는 아무것도 저장되지 않는다."
      ],
      "metadata": {
        "colab": {
          "base_uri": "https://localhost:8080/"
        },
        "id": "PGjs6kyL5EHn",
        "outputId": "bea22324-990f-4742-966f-d0e95757c357"
      },
      "execution_count": 28,
      "outputs": [
        {
          "output_type": "stream",
          "name": "stdout",
          "text": [
            "\n"
          ]
        }
      ]
    },
    {
      "cell_type": "code",
      "source": [
        "#finally 구문은 무조건 실행된다.\n",
        "#반복문에서 break로 빠져나갈 때도 마찬가지로 무조건 실행된다.\n",
        "print(\"프로그램이 시작되었습니다.\")\n",
        "\n",
        "while True:\n",
        "  try:\n",
        "    print(\"try 구문이 실행되었습니다.\")\n",
        "    break\n",
        "    print(\"try 구문의 break 키워드 뒤입니다.\")\n",
        "  except:\n",
        "    print(\"except 구문이 실행되었습니다.\")\n",
        "  finally:\n",
        "    print(\"finally 구문이 실행되었습니다.\")\n",
        "  print(\"while 반복문의 마지막 줄입니다.\")\n",
        "print(\"프로그램을 종료합니다.\")"
      ],
      "metadata": {
        "colab": {
          "base_uri": "https://localhost:8080/"
        },
        "id": "Av_Aj6d06QRq",
        "outputId": "665118f4-4ce9-4713-be39-064172819da9"
      },
      "execution_count": 29,
      "outputs": [
        {
          "output_type": "stream",
          "name": "stdout",
          "text": [
            "프로그램이 시작되었습니다.\n",
            "try 구문이 실행되었습니다.\n",
            "finally 구문이 실행되었습니다.\n",
            "프로그램을 종료합니다.\n"
          ]
        }
      ]
    },
    {
      "cell_type": "markdown",
      "source": [
        "예외가 발생하면 예외와 관련된 정보가 생긴다. 이러한 예외 정보는 exception object에 저장된다.\n",
        "\n",
        "이 exception object는 다음과 같은 형태로 사용한다.\n",
        "\n",
        "    try:\n",
        "      예외가 발생할 가능성이 있는 구문\n",
        "    except 예외의 종류 as 예외 객체를 활용할 변수 이름:\n",
        "      예외가 발생했을 때 실행할 구문\n",
        "exception object를 사용할 때 exception의 종류가 뭔지 모를 때에는 Exception라는 class를 사용하면 된다."
      ],
      "metadata": {
        "id": "qCr-N-R_7GMg"
      }
    },
    {
      "cell_type": "code",
      "source": [
        "try:\n",
        "  number_input_a=int(input(\"정수 입력> \"))\n",
        "\n",
        "  print(\"원의 반지름:\",number_input_a)\n",
        "  print(\"원의 둘레:\",2*3.14*number_input_a)\n",
        "  print(\"원의 넓이:\",3.14*number_input_a*number_input_a)\n",
        "except Exception as exception:\n",
        "  print(\"type(exception):\",type(exception))\n",
        "  print(\"exception:\",exception)"
      ],
      "metadata": {
        "colab": {
          "base_uri": "https://localhost:8080/"
        },
        "id": "txKrMPp-7Etz",
        "outputId": "62e9156c-e75d-498f-b2d4-d4c8ee0f184c"
      },
      "execution_count": 32,
      "outputs": [
        {
          "output_type": "stream",
          "name": "stdout",
          "text": [
            "정수 입력> 7cm\n",
            "type(exception): <class 'ValueError'>\n",
            "exception: invalid literal for int() with base 10: '7cm'\n"
          ]
        }
      ]
    },
    {
      "cell_type": "markdown",
      "source": [
        "exception object를 사용하면 except구문을 if 조건문처럼 사용해서 exception을 구분할 수 있다.\n",
        "\n",
        "    try:\n",
        "      예외가 발생할 가능성이 있는 구문\n",
        "    except 예외의 종류A:\n",
        "      예외A가 발생했을 때 실행할 구문\n",
        "    except 예외의 종류B:\n",
        "      예외B가 발생했을 때 실행할 구문\n",
        "    except 예외의 종류C:\n",
        "      예외C가 발생했을 때 실행할 구문"
      ],
      "metadata": {
        "id": "ORXIISmk9ugN"
      }
    },
    {
      "cell_type": "code",
      "source": [
        "#범용적으로 예외 처리\n",
        "list_number=[52,273,32,72,100]\n",
        "\n",
        "try:\n",
        "  number_input=int(input(\"정수 입력> \"))\n",
        "  print(\"list의 {}번째 요소: {}\".format(number_input,list_number[number_input]))\n",
        "except Exception as exception:\n",
        "  print(\"type(exception):\", type(exception))\n",
        "  print(\"exception:\",exception)"
      ],
      "metadata": {
        "colab": {
          "base_uri": "https://localhost:8080/"
        },
        "id": "_LMSv-vg9Ih9",
        "outputId": "1a2fe3bd-254a-42fe-87ec-c58e4a019570"
      },
      "execution_count": 33,
      "outputs": [
        {
          "output_type": "stream",
          "name": "stdout",
          "text": [
            "정수 입력> yes I can do\n",
            "type(exception): <class 'ValueError'>\n",
            "exception: invalid literal for int() with base 10: 'yes I can do'\n"
          ]
        }
      ]
    },
    {
      "cell_type": "code",
      "source": [
        "list_number=[52,273,32,72,100]\n",
        "\n",
        "try:\n",
        "  number_input=int(input(\"정수 입력> \"))\n",
        "  print(\"list의 {}번째 요소: {}\".format(number_input,list_number[number_input]))\n",
        "except ValueError:\n",
        "  #ValueError라는 exception이 발생한 경우\n",
        "  print(\"정수를 입력해주세요!!\")\n",
        "except IndexError:\n",
        "  #IndexError라는 exception이 발생한 경우\n",
        "  print(\"list의 index를 벗어났어요!\")"
      ],
      "metadata": {
        "colab": {
          "base_uri": "https://localhost:8080/"
        },
        "id": "a8Cv0zJh-e_W",
        "outputId": "af0d4d65-ecaa-413d-c95d-4e0c80396b01"
      },
      "execution_count": 35,
      "outputs": [
        {
          "output_type": "stream",
          "name": "stdout",
          "text": [
            "정수 입력> 100\n",
            "list의 index를 벗어났어요!\n"
          ]
        }
      ]
    },
    {
      "cell_type": "code",
      "source": [
        "list_number=[52,273,32,72,100]\n",
        "\n",
        "try:\n",
        "  number_input=int(input(\"정수 입력> \"))\n",
        "  print(\"list의 {}번째 요소: {}\".format(number_input,list_number[number_input]))\n",
        "except ValueError:\n",
        "  #ValueError라는 exception이 발생한 경우\n",
        "  print(\"정수를 입력해주세요!!\")\n",
        "except IndexError:\n",
        "  #IndexError라는 exception이 발생한 경우\n",
        "  print(\"list의 index를 벗어났어요!\")"
      ],
      "metadata": {
        "colab": {
          "base_uri": "https://localhost:8080/"
        },
        "id": "EnM4j1D--8Wl",
        "outputId": "09fd66b1-9ff6-49b2-e3a5-10a95b4856a1"
      },
      "execution_count": 36,
      "outputs": [
        {
          "output_type": "stream",
          "name": "stdout",
          "text": [
            "정수 입력> 7cm\n",
            "정수를 입력해주세요!!\n"
          ]
        }
      ]
    },
    {
      "cell_type": "code",
      "source": [
        "#exception를 구분할 때 각각의 except구문 뒤에 exception object를 붙여 활용할 수도 있다.\n",
        "#마찬가지로 as라는 keyword를 사용하면 된다.\n",
        "list_number=[52,273,32,72,100]\n",
        "\n",
        "try:\n",
        "  number_input=int(input(\"정수 입력> \"))\n",
        "  print(\"list의 {}번째 요소: {}\".format(number_input,list_number[number_input]))\n",
        "except ValueError as exception:\n",
        "  #ValueError라는 exception이 발생한 경우\n",
        "  print(\"정수를 입력해주세요!!\")\n",
        "  print(\"exception:\",exception)\n",
        "except IndexError:\n",
        "  #IndexError라는 exception이 발생한 경우\n",
        "  print(\"list의 index를 벗어났어요!\")\n",
        "  print(\"exception:\",exception)"
      ],
      "metadata": {
        "colab": {
          "base_uri": "https://localhost:8080/"
        },
        "id": "Iy06pqFR_EfY",
        "outputId": "99b4fcbd-1209-4731-8130-f622288a6d59"
      },
      "execution_count": 37,
      "outputs": [
        {
          "output_type": "stream",
          "name": "stdout",
          "text": [
            "정수 입력> 7cm\n",
            "정수를 입력해주세요!!\n",
            "exception: invalid literal for int() with base 10: '7cm'\n"
          ]
        }
      ]
    },
    {
      "cell_type": "code",
      "source": [
        "list_number=[52,273,32,72,100]\n",
        "\n",
        "try:\n",
        "  number_input=int(input(\"정수 입력> \"))\n",
        "  print(\"list의 {}번째 요소: {}\".format(number_input,list_number[number_input]))\n",
        "except ValueError as exception:\n",
        "  #ValueError라는 exception이 발생한 경우\n",
        "  print(\"정수를 입력해주세요!!\")\n",
        "  print(\"exception:\",exception)\n",
        "except IndexError as exception:\n",
        "  #IndexError라는 exception이 발생한 경우\n",
        "  print(\"list의 index를 벗어났어요!\")\n",
        "  print(\"exception:\",exception)"
      ],
      "metadata": {
        "colab": {
          "base_uri": "https://localhost:8080/"
        },
        "id": "iIaMeMJOBTvR",
        "outputId": "765a9511-deec-4c55-b484-325ea8439f46"
      },
      "execution_count": 40,
      "outputs": [
        {
          "output_type": "stream",
          "name": "stdout",
          "text": [
            "정수 입력> 1999\n",
            "list의 index를 벗어났어요!\n",
            "exception: list index out of range\n"
          ]
        }
      ]
    },
    {
      "cell_type": "markdown",
      "source": [
        "except 구문으로 예외를 구분하면 위에서부터 아래로 차례대로 오류를 검출하면서 확인한다. 만약 exception 조건에 일치하는 것이 없다면 당연히 exception이 발생하여 program이 강제 종료된다."
      ],
      "metadata": {
        "id": "04iOzd2ABrnC"
      }
    },
    {
      "cell_type": "code",
      "source": [
        "list_number=[52,273,32,72,100]\n",
        "\n",
        "try:\n",
        "  number_input=int(input(\"정수 입력> \"))\n",
        "  print(\"list의 {}번째 요소: {}\".format(number_input,list_number[number_input]))\n",
        "  예외.발생() #이 부분에서 구분하지 못한 exception이 발생한다.\n",
        "except ValueError as exception:\n",
        "  #ValueError라는 exception이 발생한 경우\n",
        "  print(\"정수를 입력해주세요!!\")\n",
        "  print(\"exception:\",exception)\n",
        "except IndexError as exception:\n",
        "  #IndexError라는 exception이 발생한 경우\n",
        "  print(\"list의 index를 벗어났어요!\")\n",
        "  print(\"exception:\",exception)"
      ],
      "metadata": {
        "colab": {
          "base_uri": "https://localhost:8080/",
          "height": 255
        },
        "id": "MZF0kZgvBeWI",
        "outputId": "2a1d1fd7-8ee6-4d8e-d60c-b11cd918fcc7"
      },
      "execution_count": 41,
      "outputs": [
        {
          "output_type": "stream",
          "name": "stdout",
          "text": [
            "정수 입력> 4\n",
            "list의 4번째 요소: 100\n"
          ]
        },
        {
          "output_type": "error",
          "ename": "NameError",
          "evalue": "name '예외' is not defined",
          "traceback": [
            "\u001b[0;31m---------------------------------------------------------------------------\u001b[0m",
            "\u001b[0;31mNameError\u001b[0m                                 Traceback (most recent call last)",
            "\u001b[0;32m/tmp/ipython-input-2121061678.py\u001b[0m in \u001b[0;36m<cell line: 0>\u001b[0;34m()\u001b[0m\n\u001b[1;32m      4\u001b[0m   \u001b[0mnumber_input\u001b[0m\u001b[0;34m=\u001b[0m\u001b[0mint\u001b[0m\u001b[0;34m(\u001b[0m\u001b[0minput\u001b[0m\u001b[0;34m(\u001b[0m\u001b[0;34m\"정수 입력> \"\u001b[0m\u001b[0;34m)\u001b[0m\u001b[0;34m)\u001b[0m\u001b[0;34m\u001b[0m\u001b[0;34m\u001b[0m\u001b[0m\n\u001b[1;32m      5\u001b[0m   \u001b[0mprint\u001b[0m\u001b[0;34m(\u001b[0m\u001b[0;34m\"list의 {}번째 요소: {}\"\u001b[0m\u001b[0;34m.\u001b[0m\u001b[0mformat\u001b[0m\u001b[0;34m(\u001b[0m\u001b[0mnumber_input\u001b[0m\u001b[0;34m,\u001b[0m\u001b[0mlist_number\u001b[0m\u001b[0;34m[\u001b[0m\u001b[0mnumber_input\u001b[0m\u001b[0;34m]\u001b[0m\u001b[0;34m)\u001b[0m\u001b[0;34m)\u001b[0m\u001b[0;34m\u001b[0m\u001b[0;34m\u001b[0m\u001b[0m\n\u001b[0;32m----> 6\u001b[0;31m   \u001b[0m예외\u001b[0m\u001b[0;34m.\u001b[0m\u001b[0m발생\u001b[0m\u001b[0;34m(\u001b[0m\u001b[0;34m)\u001b[0m \u001b[0;31m#이 부분에서 구분하지 못한 exception이 발생한다.\u001b[0m\u001b[0;34m\u001b[0m\u001b[0;34m\u001b[0m\u001b[0m\n\u001b[0m\u001b[1;32m      7\u001b[0m \u001b[0;32mexcept\u001b[0m \u001b[0mValueError\u001b[0m \u001b[0;32mas\u001b[0m \u001b[0mexception\u001b[0m\u001b[0;34m:\u001b[0m\u001b[0;34m\u001b[0m\u001b[0;34m\u001b[0m\u001b[0m\n\u001b[1;32m      8\u001b[0m   \u001b[0;31m#ValueError라는 exception이 발생한 경우\u001b[0m\u001b[0;34m\u001b[0m\u001b[0;34m\u001b[0m\u001b[0m\n",
            "\u001b[0;31mNameError\u001b[0m: name '예외' is not defined"
          ]
        }
      ]
    },
    {
      "cell_type": "code",
      "source": [
        "#except로 구분하지 못한 exception이 발생하면 program이 강제 종료된다.\n",
        "#그래서 마지막에는 모든 exception의 부모라 할 수 있는 Exception라는 class를 넣어 program이 죽지 않도록 한다.\n",
        "#다만 경우에 따라서는 너무 치명적인 문제인데도 program이 종료되지 않게 만들면 그건 또 그것대로 문제가 될 수 있다.\n",
        "list_number=[52,273,32,72,100]\n",
        "\n",
        "try:\n",
        "  number_input=int(input(\"정수 입력> \"))\n",
        "  print(\"list의 {}번째 요소: {}\".format(number_input,list_number[number_input]))\n",
        "  예외.발생()\n",
        "except ValueError as exception:\n",
        "  #ValueError라는 exception이 발생한 경우\n",
        "  print(\"정수를 입력해주세요!!\")\n",
        "  print(\"exception:\",exception)\n",
        "except IndexError as exception:\n",
        "  #IndexError라는 exception이 발생한 경우\n",
        "  print(\"list의 index를 벗어났어요!\")\n",
        "  print(\"exception:\",exception)\n",
        "except Exception as exception:  #ValueError와 IndexError가 아닌 exception이 발생했을 때 실행된다.\n",
        "  print(\"미리 파악하지 못한 예외가 발생했습니다.\")\n",
        "  print(type(exception),exception)"
      ],
      "metadata": {
        "colab": {
          "base_uri": "https://localhost:8080/"
        },
        "id": "oEeB-dPGCE8z",
        "outputId": "e3d60dd4-4b28-4149-c66e-9b7ec6817a5e"
      },
      "execution_count": 42,
      "outputs": [
        {
          "output_type": "stream",
          "name": "stdout",
          "text": [
            "정수 입력> 1\n",
            "list의 1번째 요소: 273\n",
            "미리 파악하지 못한 예외가 발생했습니다.\n",
            "<class 'NameError'> name '예외' is not defined\n"
          ]
        }
      ]
    },
    {
      "cell_type": "markdown",
      "source": [
        "# raise 구문\n",
        "3장에서 keyword pass를 배우면서 일부러 예외를 발생시켜 program을 죽게 만들도록 하는 keyword raise를 배웠다.\n",
        "\n",
        "    raise exception_object\n",
        "이때 출력되는 메시지를 원하는 형태로 만들고 싶다면 exception class를 만들어야 한다."
      ],
      "metadata": {
        "id": "QPP-O2yWC7H1"
      }
    }
  ]
}