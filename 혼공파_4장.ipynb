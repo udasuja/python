{
  "nbformat": 4,
  "nbformat_minor": 0,
  "metadata": {
    "colab": {
      "provenance": []
    },
    "kernelspec": {
      "name": "python3",
      "display_name": "Python 3"
    },
    "language_info": {
      "name": "python"
    }
  },
  "cells": [
    {
      "cell_type": "markdown",
      "source": [
        "list는 여러가지 data를 저장할 수 있는 data이다. 즉, 숫자나 문자, 수식 등 개별적인 그리고 독립적인 data를 모아서 사용할 수 있게 해주는 특별한 형태의 data를 list라 한다.\n",
        "\n",
        "이러한 list는 대괄호[] 내부에 여러 종류(혹은 한 종류)의 data를 넣어 선언한다.\n",
        "선언시 대괄호[] 내부에 넣는 data를 element라 부른다. list호출시 대괄호[]안에 들어간 숫자를 index라 부른다."
      ],
      "metadata": {
        "id": "khfb95PT9WxL"
      }
    },
    {
      "cell_type": "code",
      "execution_count": null,
      "metadata": {
        "id": "Mmii33KwwhRn",
        "colab": {
          "base_uri": "https://localhost:8080/"
        },
        "outputId": "8e0e67cc-a87a-4c61-cefd-0657e0410209"
      },
      "outputs": [
        {
          "output_type": "stream",
          "name": "stdout",
          "text": [
            "[273, 32, 103, 'string', True, False] <class 'int'> <class 'int'> <class 'int'> <class 'str'> <class 'bool'> <class 'bool'>\n",
            "[32, 103]\n",
            "['first', 32, 103, 'string', True, False] <class 'str'>\n",
            "False True string 103 32 first\n",
            "string  | s\n",
            "[4, 5, 6]\n",
            "5\n"
          ]
        }
      ],
      "source": [
        "array=[273,32,103,\"string\",True,False]\n",
        "print(array,type(array[0]),type(array[1]),type(array[2]),type(array[3]),type(array[4]),type(array[5]))\n",
        "print(array[1:3])\n",
        "array[0]=\"first\"\n",
        "print(array,type(array[0]))\n",
        "\n",
        "print(array[-1],array[-2],array[-3],array[-4],array[-5],array[-6])  #index값이 음수면 list의 뒤에서부터 element를 선택할 수 있다.\n",
        "print(array[3],\" |\",array[3][0])  #array[3]이 \"string\"이라는 문자열일 때 array[3][0]은 문자열의 맨 앞 문자인 s를 나타낸다.\n",
        "\n",
        "list_a=[[1,2,3],[4,5,6],[7,8,9]]\n",
        "print(list_a[1])\n",
        "print(list_a[1][1])"
      ]
    },
    {
      "cell_type": "code",
      "source": [
        "#list연산자, 함수로는 +,*,len()이 있다. 각각 연결, 반복하는 연산자, 그리고 길이를 구하는 함수이다.\n",
        "#문자열과 list는 굉장히 비슷한 data type으로 사용할 수 있는 연산자와 함수가 비슷하다.\n",
        "\n",
        "#list선언\n",
        "list_a=[1,2,3]\n",
        "list_b=[4,5,6]\n",
        "\n",
        "print(\"list 출력\")\n",
        "print(\"list_a=\",list_a)\n",
        "print(\"list_b=\",list_b)\n",
        "print()\n",
        "\n",
        "print(\"list 기본 연산자\")\n",
        "print(\"list_a + list_b =\",list_a+list_b)  #list_a와 list_b의 data를 연결한다.\n",
        "print(\"list_a * 3 =\",list_a*3)  # *를 사용해 list_a의 data를 3번 반복한다.\n",
        "print()\n",
        "\n",
        "print(\"list 길이를 구하는 함수\")\n",
        "print(\"len(list_a) =\",len(list_a))  #매개변수로 주어진 list변수의 element의 개수를 세어준다."
      ],
      "metadata": {
        "colab": {
          "base_uri": "https://localhost:8080/"
        },
        "id": "kVZBYuPFNNw7",
        "outputId": "a4bb1d19-e730-449c-bf03-6ab3bb582ad7"
      },
      "execution_count": null,
      "outputs": [
        {
          "output_type": "stream",
          "name": "stdout",
          "text": [
            "list 출력\n",
            "list_a= [1, 2, 3]\n",
            "list_b= [4, 5, 6]\n",
            "\n",
            "list 기본 연산자\n",
            "list_a + list_b = [1, 2, 3, 4, 5, 6]\n",
            "list_a * 3 = [1, 2, 3, 1, 2, 3, 1, 2, 3]\n",
            "\n",
            "list 길이를 구하는 함수\n",
            "len(list_a) = 3\n"
          ]
        }
      ]
    },
    {
      "cell_type": "code",
      "source": [
        "#list에 element를 추가하는 방법은 append()함수를 활용하는 것과, insert()함수를 활용하는 것 총 2가지이다.\n",
        "#append()는 list뒤에 element를 추가하고, insert()함수는 list내 원하는 위치에 element를 추가한다.\n",
        "\n",
        "list_a=[1,2,3]\n",
        "\n",
        "print(\"list 뒤에 element추가\")\n",
        "list_a.append(4)\n",
        "list_a.append(5)\n",
        "print(list_a)\n",
        "print()\n",
        "\n",
        "print(\"list 중간에 element추가\")\n",
        "list_a.insert(2,10) #index 2에 10을 끼어 넣음, 이때 해당 위치의 element는 뒤로 하나씩 밀린다.\n",
        "print(list_a)\n",
        "\n",
        "#한 번에 여러 element를 추가하고 싶을 때는 extend()함수를 사용한다. 이 함수의 매개변수로 list를 입력하는데, 원래 list뒤에 새로운 list의 요소를 모두 추가한다.\n",
        "list_b=[6,7,8]\n",
        "print(\"extend()함수 예시\")\n",
        "print(\"list_b: \",list_b)\n",
        "list_b.extend([4,5,6])\n",
        "print(\"[4,5,6]추가: \",list_b)\n",
        "print()\n",
        "\n",
        "#list 연결 연산자와 extend()함수의 출력이 같고, list와 list를 연결한다는 기능은 동일하다.\n",
        "#하지만 list 연결 연산자는 연산 이후 list를 갱신하지 못하지만 extend()함수는 list에 직접적으로 영향을 준다.\n",
        "print(\"연결 연산자와 extend()의 차이\")\n",
        "list_c=[1,2,3]\n",
        "list_d=[4,5,6]\n",
        "print(\"list_c + list_d: \",list_c+list_d)\n",
        "print(\"list_c: \",list_c)\n",
        "print(\"list_d: \",list_d)\n",
        "print()\n",
        "\n",
        "list_c.extend(list_d)\n",
        "print(\"list_c.extend(list_d): \", list_c)\n",
        "print(\"list_c: \",list_c)\n",
        "print(\"list_d: \",list_d)\n",
        "print()"
      ],
      "metadata": {
        "colab": {
          "base_uri": "https://localhost:8080/"
        },
        "id": "Ssp10dwAOWs_",
        "outputId": "78d74ef7-034f-4f9d-cf50-647f8da0ef2e"
      },
      "execution_count": null,
      "outputs": [
        {
          "output_type": "stream",
          "name": "stdout",
          "text": [
            "list 뒤에 element추가\n",
            "[1, 2, 3, 4, 5]\n",
            "\n",
            "list 중간에 element추가\n",
            "[1, 2, 10, 3, 4, 5]\n",
            "extend()함수 예시\n",
            "list_b:  [6, 7, 8]\n",
            "[4,5,6]추가:  [6, 7, 8, 4, 5, 6]\n",
            "\n",
            "연결 연산자와 extend()의 차이\n",
            "list_c + list_d:  [1, 2, 3, 4, 5, 6]\n",
            "list_c:  [1, 2, 3]\n",
            "list_d:  [4, 5, 6]\n",
            "\n",
            "list_c.extend(list_d):  [1, 2, 3, 4, 5, 6]\n",
            "list_c:  [1, 2, 3, 4, 5, 6]\n",
            "list_d:  [4, 5, 6]\n",
            "\n"
          ]
        }
      ]
    },
    {
      "cell_type": "code",
      "source": [
        "#list의 element 제거하는 방법은 크게 두 가지이다.\n",
        "#1. index로 제거\n",
        "#element의 위치를 기반으로 element를 제거하는 것이다. del라는 keyword 혹은 pop()라는 함수 사용\n",
        "print(\"index로 제거\")\n",
        "list_a=[0,1,2,3,4,5]\n",
        "print(\"원본 list_a:\",list_a)\n",
        "print(\"list의 element 하나 제거\")\n",
        "del list_a[1] #index 1제거\n",
        "print(\"del list_a[1]:\",list_a)\n",
        "\n",
        "list_a.pop(2)  #index 2제거, 만약 매개변수에 아무 것도 입력하지 않으면 자동으로 -1이 들어가는 것으로 취급\n",
        "print(\"pop(2):\",list_a)\n",
        "print()\n",
        "\n",
        "list_b=[0,1,2,3,4,5]\n",
        "print(\"원본 list_a:\",list_b)\n",
        "print(\"list의 element 여러개 제거\")\n",
        "del list_b[1:4] #지정된 범위내 list의 element를 한꺼번에 제거\n",
        "print(\"del list_a[1:4]:\",list_b)\n",
        "\n",
        "print(\"----------------------------------------\")\n",
        "#2. value로 제거\n",
        "#말 그대로 \"list 내부에 있는 2를 제거해 주세요\"와 같이 값을 지정해서 제거하는 방법으로, remove()함수를 사용한다.\n",
        "print(\"value로 제거\")\n",
        "list_c=[1,2,1,2]\n",
        "print(\"원본 list_c:\",list_c)\n",
        "list_c.remove(2)\n",
        "print(\"list_c.remove(2): \",list_c)  #list의 왼쪽부터 검사하면서 가장 먼저 발견되는 2라는 값 하나만 제거한다.\n",
        "\n",
        "print(\"----------------------------------------\")\n",
        "#list내부의 element를 모두 제거, 이때는 clear()함수를 사용\n",
        "print(\"list내 element모두 제거\")\n",
        "list_e=[0,1,2,3,4,5]\n",
        "print(\"원본 list_e:\",list_e)\n",
        "list_e.clear()\n",
        "print(\"list_e.clear(): \",list_e)"
      ],
      "metadata": {
        "colab": {
          "base_uri": "https://localhost:8080/"
        },
        "id": "BbZLEDvCRB4M",
        "outputId": "c4d88d3e-0a24-4065-a426-edb96e81e690"
      },
      "execution_count": null,
      "outputs": [
        {
          "output_type": "stream",
          "name": "stdout",
          "text": [
            "index로 제거\n",
            "원본 list_a: [0, 1, 2, 3, 4, 5]\n",
            "list의 element 하나 제거\n",
            "del list_a[1]: [0, 2, 3, 4, 5]\n",
            "pop(2): [0, 2, 4, 5]\n",
            "\n",
            "원본 list_a: [0, 1, 2, 3, 4, 5]\n",
            "list의 element 여러개 제거\n",
            "del list_a[1:4]: [0, 4, 5]\n",
            "----------------------------------------\n",
            "value로 제거\n",
            "원본 list_c: [1, 2, 1, 2]\n",
            "list_c.remove(2):  [1, 1, 2]\n",
            "----------------------------------------\n",
            "list내 element모두 제거\n",
            "원본 list_e: [0, 1, 2, 3, 4, 5]\n",
            "list_e.clear():  []\n"
          ]
        }
      ]
    },
    {
      "cell_type": "code",
      "source": [
        "#in연산자를 활용하여 특정 값이 list 내부에 있는지 확인\n",
        "list_a=[1,2,3,4]\n",
        "print(\"원본 list_a: \",list_a)\n",
        "print(\"77 in list_a:\",77 in list_a)\n",
        "print(\"2 in list_a:\",2 in list_a)\n",
        "print(\"5 in list_a:\",5 in list_a)\n",
        "print()\n",
        "print(\"----------------------------------------\")\n",
        "#list 내부에 해당 값이 없는지 확인하는 연산자로는 not in 연산자가 있다. in 연산자와 정확히 반대로 동작한다.\n",
        "print(\"77 not in list_a:\",77 not in list_a)\n",
        "print(\"2 not in list_a:\",2 not in list_a)\n",
        "print(\"5 not in list_a:\",5 not in list_a)"
      ],
      "metadata": {
        "colab": {
          "base_uri": "https://localhost:8080/"
        },
        "id": "SJqhomETT4fB",
        "outputId": "99738cd4-709b-4ab7-e2a4-3cab728bf7b1"
      },
      "execution_count": null,
      "outputs": [
        {
          "output_type": "stream",
          "name": "stdout",
          "text": [
            "원본 list_a:  [1, 2, 3, 4]\n",
            "77 in list_a: False\n",
            "2 in list_a: True\n",
            "5 in list_a: False\n",
            "\n",
            "----------------------------------------\n",
            "77 not in list_a: True\n",
            "2 not in list_a: False\n",
            "5 not in list_a: True\n"
          ]
        }
      ]
    },
    {
      "cell_type": "code",
      "source": [
        "#컴퓨터에 반복을 지시하는 방법이 반복문이다.\n",
        "\"\"\"\n",
        "for 변수이름 in 반복에 사용할 수 있는 자료:\n",
        "  body\n",
        "\n",
        "즉 기본 형태는 다음과 같다.\n",
        "for 반복자 in 반복할 수 있는 것:\n",
        "  body\n",
        "이때 반복할 수 있는 것에는 문자열, list, dictionary, range등이 있다.\n",
        "\"\"\"\n",
        "array=[273,32,103,57,52]\n",
        "\n",
        "for elem in array:\n",
        "  print(elem)\n",
        "\n",
        "#위 코드는 list에 있는 element 하나하나가 elem라는 변수에 들어가며, 차례차례 반복하게 된다.\n",
        "\n",
        "print(\"--------------------------------------\")\n",
        "for character in \"hello!!!\":\n",
        "  print(\"-\",character)"
      ],
      "metadata": {
        "colab": {
          "base_uri": "https://localhost:8080/"
        },
        "id": "s5bJGTgZbGDu",
        "outputId": "79820008-6768-4929-a5ba-01fd7e1bd3cb"
      },
      "execution_count": 1,
      "outputs": [
        {
          "output_type": "stream",
          "name": "stdout",
          "text": [
            "273\n",
            "32\n",
            "103\n",
            "57\n",
            "52\n",
            "--------------------------------------\n",
            "- h\n",
            "- e\n",
            "- l\n",
            "- l\n",
            "- o\n",
            "- !\n",
            "- !\n",
            "- !\n"
          ]
        }
      ]
    },
    {
      "cell_type": "markdown",
      "source": [
        "list는 index를 기반으로 값을 저장한다. 이와 달리 dictionary는 key를 기반으로 값을 저장한다.\n",
        "즉 다음과 같다.\n",
        "\n",
        "변수={\n",
        "  key: value,\n",
        "  key: value,\n",
        "  ...\n",
        "  key: value\n",
        "}\n",
        "\n",
        "\n",
        "이와 같이 dictionary는 중괄호{}로 선언하며, 'key: value'형태를 쉼표(,)로 연결해서 만든다. key는 문자열, 숫자, boolean등으로 선언할 수 있다.\n",
        "\n",
        "dictionary의 element에 접근할 때는 list처럼 dictionary뒤에 대괄호[]를 입력하고 내부에 index처럼 key를 입력하여 그 key에 대한 value에 접근할 수 있다.\n",
        "\n",
        "value에는 문자열, 숫자, boolean, list와 dictionary등 다양한 data를 넣을 수 있다."
      ],
      "metadata": {
        "id": "i9mfaSBTcN3y"
      }
    },
    {
      "cell_type": "code",
      "source": [
        "name=\"name\"\n",
        "dictionary={\n",
        "  name:\"7D 건조 망고\",\n",
        "  \"type\":\"당절임\",\n",
        "  \"ingredient\":[\"망고\",\"설탕\",\"메타중아황산나트륨\",\"치자황색소\"],\n",
        "  \"origin\":\"필리핀\",\n",
        "  \"price\":15500,\n",
        "  True:\"판매중\",\n",
        "  False:\"품절\"\n",
        "}\n",
        "\n",
        "print(\"name:\",dictionary[name])\n",
        "print(\"type:\",dictionary[\"type\"])\n",
        "print(\"ingredient:\",dictionary[\"ingredient\"])\n",
        "print(\"origin:\",dictionary[\"origin\"])\n",
        "print(\"price:\",dictionary[\"price\"])\n",
        "print(\"현재 상황은 {} 혹은 {}이다.\".format(dictionary[True],dictionary[False]))\n",
        "print()\n",
        "\n",
        "dictionary[name]=\"8D 건조 망고\"\n",
        "print(\"name:\",dictionary[name])\n",
        "print()\n",
        "\n",
        "#key인 \"ingredient\"에 대한 value는 여러 개의 data를 갖는 list이므로 다음과 같이 index를 지정하여 list 안의 특정 값을 출력할 수도 있다.\n",
        "print(\"재료중 가장 중요한 재료는 {}이다.\".format(dictionary[\"ingredient\"][1]))\n",
        "print()\n",
        "#dictionary에 값을 추가할 때는 key를 기반으로 값을 입력하면 된다.\n",
        "#dictionary[new key]=new value\n",
        "print(dictionary)\n",
        "print(\"할인 중인지를 나타내는 value추가\")\n",
        "dictionary[\"on sale\"]=True\n",
        "print(dictionary)\n",
        "print()\n",
        "#dictionary의 element를 제거할 때는 list때와 같이 del라는 keyword를 사용하여 특정 key를 지정하면 해당 element가 제거된다.\n",
        "print(\"ingredient에 대한 value제거\")\n",
        "del dictionary[\"ingredient\"]\n",
        "print(dictionary)"
      ],
      "metadata": {
        "colab": {
          "base_uri": "https://localhost:8080/"
        },
        "id": "LI6s-CtndaDF",
        "outputId": "1d779cc6-ccca-4efe-c9a7-22f65e23508c"
      },
      "execution_count": 12,
      "outputs": [
        {
          "output_type": "stream",
          "name": "stdout",
          "text": [
            "name: 7D 건조 망고\n",
            "type: 당절임\n",
            "ingredient: ['망고', '설탕', '메타중아황산나트륨', '치자황색소']\n",
            "origin: 필리핀\n",
            "price: 15500\n",
            "현재 상황은 판매중 혹은 품절이다.\n",
            "\n",
            "name: 8D 건조 망고\n",
            "\n",
            "재료중 가장 중요한 재료는 설탕이다.\n",
            "\n",
            "{'name': '8D 건조 망고', 'type': '당절임', 'ingredient': ['망고', '설탕', '메타중아황산나트륨', '치자황색소'], 'origin': '필리핀', 'price': 15500, True: '판매중', False: '품절'}\n",
            "할인 중인지를 나타내는 value추가\n",
            "{'name': '8D 건조 망고', 'type': '당절임', 'ingredient': ['망고', '설탕', '메타중아황산나트륨', '치자황색소'], 'origin': '필리핀', 'price': 15500, True: '판매중', False: '품절', 'on sale': True}\n",
            "\n",
            "ingredient에 대한 value제거\n",
            "{'name': '8D 건조 망고', 'type': '당절임', 'origin': '필리핀', 'price': 15500, True: '판매중', False: '품절', 'on sale': True}\n"
          ]
        }
      ]
    },
    {
      "cell_type": "code",
      "source": [
        "dictionary={}\n",
        "print(\"element 추가 이전: \",dictionary)\n",
        "\n",
        "dictionary[\"name\"]=\"new name\"\n",
        "dictionary[\"head\"]=\"new ego\"\n",
        "dictionary[\"body\"]=\"new body\"\n",
        "\n",
        "print(\"element 추가 이후\",dictionary)"
      ],
      "metadata": {
        "colab": {
          "base_uri": "https://localhost:8080/"
        },
        "id": "cuXg_5_7f8Ys",
        "outputId": "56b1b788-1270-47e0-c766-301f9d87f4a1"
      },
      "execution_count": 13,
      "outputs": [
        {
          "output_type": "stream",
          "name": "stdout",
          "text": [
            "element 추가 이전:  {}\n",
            "element 추가 이후 {'name': 'new name', 'head': 'new ego', 'body': 'new body'}\n"
          ]
        }
      ]
    },
    {
      "cell_type": "code",
      "source": [
        "dictionary={\n",
        "    \"name\":\"7D 건조 망고\",\n",
        "    \"type\":\"당절임\"\n",
        "}\n",
        "\n",
        "print(\"element 제거 이전:\",dictionary)\n",
        "\n",
        "del dictionary[\"name\"]\n",
        "del dictionary[\"type\"]\n",
        "\n",
        "print(\"element 제거 이후:\",dictionary)"
      ],
      "metadata": {
        "colab": {
          "base_uri": "https://localhost:8080/"
        },
        "id": "uHgkAneGhnfd",
        "outputId": "3cadf72e-96ea-4854-9dbd-3581f43c99e6"
      },
      "execution_count": 14,
      "outputs": [
        {
          "output_type": "stream",
          "name": "stdout",
          "text": [
            "element 제거 이전: {'name': '7D 건조 망고', 'type': '당절임'}\n",
            "element 제거 이후: {}\n"
          ]
        }
      ]
    },
    {
      "cell_type": "code",
      "source": [
        "#in라는 keyword로 dictionary 내부에 key가 있는지 없는지 확인할 수 있다.\n",
        "dictionary={\n",
        "    \"nanme\":\"7D 건조 망고\",\n",
        "    \"type\":\"당절임\",\n",
        "    \"ingredient\" : [\"망고\",\"설탕\",\"메타중아황산나트륨\",\"치자황색소\"],\n",
        "    \"origin\":\"필리핀\"\n",
        "}\n",
        "key=input(\"> 접근하고자 하는 키: \")\n",
        "if key in dictionary:\n",
        "  print(dictionary[key])\n",
        "else:\n",
        "  print(\"존재하지 않는 키입니다.\")\n",
        "  value=input(\"dictionary에 추가를 원하시면 값을 입력해주세요\")\n",
        "  dictionary[key]=value\n",
        "  print(\"추가되었습니다. {}:{}\".format(key,dictionary[key]))"
      ],
      "metadata": {
        "colab": {
          "base_uri": "https://localhost:8080/"
        },
        "id": "qfRiXERSjaR7",
        "outputId": "7734c687-891e-40bd-ae2c-b29f310b976f"
      },
      "execution_count": 17,
      "outputs": [
        {
          "output_type": "stream",
          "name": "stdout",
          "text": [
            "> 접근하고자 하는 키: price\n",
            "존재하지 않는 키입니다.\n",
            "dictionary에 추가를 원하시면 값을 입력해주세요30\n",
            "추가되었습니다. price:30\n"
          ]
        }
      ]
    },
    {
      "cell_type": "code",
      "source": [
        "#get()라는 함수는 dictionary의 key로 값을 추출하는 기능으로 dictionary[key]를 입력할 때와 같은 기능을 수행\n",
        "#그러나 존재하지 않는 key에 접근할 경우 error를 발생시키는 것이 아닌 None를 출력한다.\n",
        "dictionary={\n",
        "    \"nanme\":\"7D 건조 망고\",\n",
        "    \"type\":\"당절임\",\n",
        "    \"ingredient\" : [\"망고\",\"설탕\",\"메타중아황산나트륨\",\"치자황색소\"],\n",
        "    \"origin\":\"필리핀\"\n",
        "}\n",
        "\n",
        "value=dictionary.get(\"존재하지 않는 키\")\n",
        "print(\"값:\",value)\n",
        "if value==None:\n",
        "  print(\"당신은 존재하지 않는 키에 접근했었습니다.\")"
      ],
      "metadata": {
        "colab": {
          "base_uri": "https://localhost:8080/"
        },
        "id": "r3SjjaENks1c",
        "outputId": "81a408a8-769a-4fef-fc8e-07216a7239be"
      },
      "execution_count": 18,
      "outputs": [
        {
          "output_type": "stream",
          "name": "stdout",
          "text": [
            "값: None\n",
            "당신은 존재하지 않는 키에 접근했었습니다.\n"
          ]
        }
      ]
    },
    {
      "cell_type": "code",
      "source": [
        "\"\"\"\n",
        "for 반복자 in 반복할 수 있는 것:\n",
        "  body\n",
        "이때 반복할 수 있는 것에 dictionary를 사용하면, dictionary 내부에 있는 key가 차례대로 변수에 들어간다\n",
        "\"\"\"\n",
        "dictionary={\n",
        "    \"nanme\":\"7D 건조 망고\",\n",
        "    \"type\":\"당절임\",\n",
        "    \"ingredient\" : [\"망고\",\"설탕\",\"메타중아황산나트륨\",\"치자황색소\"],\n",
        "    \"origin\":\"필리핀\"\n",
        "}\n",
        "for key in dictionary:\n",
        "  print(key,\";\",dictionary[key])"
      ],
      "metadata": {
        "colab": {
          "base_uri": "https://localhost:8080/"
        },
        "id": "Qr-pOWnYlVcz",
        "outputId": "b408e5e1-27b1-4559-efbe-bfc6b2711c7d"
      },
      "execution_count": 19,
      "outputs": [
        {
          "output_type": "stream",
          "name": "stdout",
          "text": [
            "nanme ; 7D 건조 망고\n",
            "type ; 당절임\n",
            "ingredient ; ['망고', '설탕', '메타중아황산나트륨', '치자황색소']\n",
            "origin ; 필리핀\n"
          ]
        }
      ]
    },
    {
      "cell_type": "code",
      "source": [
        "#for문을 활용하여 특정한 횟수만큼 반복해서 돌리고 싶을 때는 range라는 data type을 반복할 수 있는 것으로 사용한다.\n",
        "#range의 세가지 사용법\n",
        "#1. 매개변수에 숫자를 한 개 넣는 방법\n",
        "for i in range(14): #0부터 14-1까지의 정수 범위를 만든다.\n",
        "  print(\"{}\".format(i))\n",
        "print(\"--------------------------\")\n",
        "#2. 매개변수에 숫자를 두 개 넣는 방법\n",
        "for i in range(3,15): #3부터 15-1까지의 정수로 범위를 만든다.\n",
        "  print(i)\n",
        "print(\"--------------------------\")\n",
        "#3. 매개변수에 숫자를 세 개 넣는 방법\n",
        "for i in range(3,15,2): #3부터 15-1까지의 정수로 범위를 만드는데, 앞뒤의 숫자가 2만큼의 차이를 갖는다.\n",
        "  print(i)\n",
        "print(\"--------------------------\")"
      ],
      "metadata": {
        "colab": {
          "base_uri": "https://localhost:8080/"
        },
        "id": "fSD1QbBgmAHD",
        "outputId": "ce412590-6eb1-4d40-8f13-62c8603ff40f"
      },
      "execution_count": 25,
      "outputs": [
        {
          "output_type": "stream",
          "name": "stdout",
          "text": [
            "0\n",
            "1\n",
            "2\n",
            "3\n",
            "4\n",
            "5\n",
            "6\n",
            "7\n",
            "8\n",
            "9\n",
            "10\n",
            "11\n",
            "12\n",
            "13\n",
            "--------------------------\n",
            "3\n",
            "4\n",
            "5\n",
            "6\n",
            "7\n",
            "8\n",
            "9\n",
            "10\n",
            "11\n",
            "12\n",
            "13\n",
            "14\n",
            "--------------------------\n",
            "3\n",
            "5\n",
            "7\n",
            "9\n",
            "11\n",
            "13\n",
            "--------------------------\n"
          ]
        }
      ]
    },
    {
      "cell_type": "code",
      "source": [
        "#range라는 data type의 사용법 세가지\n",
        "#1. 매개변수에 숫자를 한 개 넣는 방법\n",
        "a=range(5)\n",
        "print(a)\n",
        "print(list(a))\n",
        "print(\"--------------------------\")\n",
        "#2. 매개변수에 숫자를 두 개 넣는 방법\n",
        "b=range(3,10)\n",
        "print(b)\n",
        "print(list(b))\n",
        "\n",
        "print(\"--------------------------\")\n",
        "#3. 매개변수에 숫자를 세 개 넣는 방법\n",
        "c=range(3,10,2)\n",
        "print(c)\n",
        "print(list(c))\n",
        "\n",
        "print(\"--------------------------\")"
      ],
      "metadata": {
        "colab": {
          "base_uri": "https://localhost:8080/"
        },
        "id": "v1pel7tpndyi",
        "outputId": "816f6379-773b-401b-90d1-09c60d0e1b4b"
      },
      "execution_count": 28,
      "outputs": [
        {
          "output_type": "stream",
          "name": "stdout",
          "text": [
            "range(0, 5)\n",
            "[0, 1, 2, 3, 4]\n",
            "--------------------------\n",
            "range(3, 10)\n",
            "[3, 4, 5, 6, 7, 8, 9]\n",
            "--------------------------\n",
            "range(3, 10, 2)\n",
            "[3, 5, 7, 9]\n",
            "--------------------------\n"
          ]
        }
      ]
    },
    {
      "cell_type": "code",
      "source": [
        "#range()함수의 매개변수로는 반드시 정수를 입력해야 하기에, 매개변수로 나누기 연산자를 사용하면 error발생한다.\n",
        "n=10\n",
        "a=range(0,n/2)"
      ],
      "metadata": {
        "colab": {
          "base_uri": "https://localhost:8080/",
          "height": 176
        },
        "id": "RDIW9h2ioWbn",
        "outputId": "c1938e36-a09b-414c-d3ce-da6e7fc3e6b9"
      },
      "execution_count": 29,
      "outputs": [
        {
          "output_type": "error",
          "ename": "TypeError",
          "evalue": "'float' object cannot be interpreted as an integer",
          "traceback": [
            "\u001b[0;31m---------------------------------------------------------------------------\u001b[0m",
            "\u001b[0;31mTypeError\u001b[0m                                 Traceback (most recent call last)",
            "\u001b[0;32m/tmp/ipython-input-3125420537.py\u001b[0m in \u001b[0;36m<cell line: 0>\u001b[0;34m()\u001b[0m\n\u001b[1;32m      1\u001b[0m \u001b[0;31m#range()함수의 매개변수로는 반드시 정수를 입력해야 하기에, 매개변수로 나누기 연산자를 사용하면 error발생한다.\u001b[0m\u001b[0;34m\u001b[0m\u001b[0;34m\u001b[0m\u001b[0m\n\u001b[1;32m      2\u001b[0m \u001b[0mn\u001b[0m\u001b[0;34m=\u001b[0m\u001b[0;36m10\u001b[0m\u001b[0;34m\u001b[0m\u001b[0;34m\u001b[0m\u001b[0m\n\u001b[0;32m----> 3\u001b[0;31m \u001b[0ma\u001b[0m\u001b[0;34m=\u001b[0m\u001b[0mrange\u001b[0m\u001b[0;34m(\u001b[0m\u001b[0;36m0\u001b[0m\u001b[0;34m,\u001b[0m\u001b[0mn\u001b[0m\u001b[0;34m/\u001b[0m\u001b[0;36m2\u001b[0m\u001b[0;34m)\u001b[0m\u001b[0;34m\u001b[0m\u001b[0;34m\u001b[0m\u001b[0m\n\u001b[0m",
            "\u001b[0;31mTypeError\u001b[0m: 'float' object cannot be interpreted as an integer"
          ]
        }
      ]
    },
    {
      "cell_type": "code",
      "source": [
        "n=10\n",
        "a=range(0,n//2) #그렇기에 이처럼 정수 나누기 연산자를 사용한다.\n",
        "print(a)\n",
        "print(list(a))"
      ],
      "metadata": {
        "colab": {
          "base_uri": "https://localhost:8080/"
        },
        "id": "lNCc38sFomBt",
        "outputId": "254ca401-d9d3-43e3-c1b0-e2d772dd3e00"
      },
      "execution_count": 32,
      "outputs": [
        {
          "output_type": "stream",
          "name": "stdout",
          "text": [
            "range(0, 5)\n",
            "[0, 1, 2, 3, 4]\n"
          ]
        }
      ]
    },
    {
      "cell_type": "code",
      "source": [
        "for i in range(5):\n",
        "  print(str(i)+\"=반복 변수\")\n",
        "print()\n",
        "\n",
        "for i in range(5,10):\n",
        "  print(str(i)+\"=반복 변수\")\n",
        "print()\n",
        "\n",
        "for i in range(0,10,3):\n",
        "  print(str(i)+\"=반복 변수\")\n",
        "print()"
      ],
      "metadata": {
        "colab": {
          "base_uri": "https://localhost:8080/"
        },
        "id": "YT45ka07o_4M",
        "outputId": "160cc213-7660-4a3b-8660-4e75271175a3"
      },
      "execution_count": 33,
      "outputs": [
        {
          "output_type": "stream",
          "name": "stdout",
          "text": [
            "0=반복 변수\n",
            "1=반복 변수\n",
            "2=반복 변수\n",
            "3=반복 변수\n",
            "4=반복 변수\n",
            "\n",
            "5=반복 변수\n",
            "6=반복 변수\n",
            "7=반복 변수\n",
            "8=반복 변수\n",
            "9=반복 변수\n",
            "\n",
            "0=반복 변수\n",
            "3=반복 변수\n",
            "6=반복 변수\n",
            "9=반복 변수\n",
            "\n"
          ]
        }
      ]
    },
    {
      "cell_type": "code",
      "source": [
        "array=[273,32,103,57,52]\n",
        "\n",
        "for i in range(len(array)):\n",
        "  print(\"{}번째 반복: {}\".format(i,array[i]))"
      ],
      "metadata": {
        "colab": {
          "base_uri": "https://localhost:8080/"
        },
        "id": "4ATC6AfIpyI1",
        "outputId": "11a5c90f-097c-428d-a492-540c8ffb4485"
      },
      "execution_count": 34,
      "outputs": [
        {
          "output_type": "stream",
          "name": "stdout",
          "text": [
            "0번째 반복: 273\n",
            "1번째 반복: 32\n",
            "2번째 반복: 103\n",
            "3번째 반복: 57\n",
            "4번째 반복: 52\n"
          ]
        }
      ]
    },
    {
      "cell_type": "code",
      "source": [
        "#반대로 반복하기(=역반복문)\n",
        "#첫 번째 방법: range()함수의 매개변수를 세 개 사용\n",
        "for i in range(4,0,-1):\n",
        "  print(\"현재 반복 변수: {}\".format(i))\n",
        "print()\n",
        "\n",
        "print(\"--------------------------\")\n",
        "#두 번째 방법: reversed()함수를 사용\n",
        "for i in reversed(range(5)):\n",
        "  print(\"현재 반복 변수: {}\".format(i))\n",
        "#이러한 reversed()함수는 list등에도 적용할 수 있다. 하지만 주의 사항이 굉장히 많은 함수이다."
      ],
      "metadata": {
        "colab": {
          "base_uri": "https://localhost:8080/"
        },
        "id": "5sChcuO6qE2w",
        "outputId": "fe63911e-19cc-454c-e1c0-aba42a4ddfe3"
      },
      "execution_count": 38,
      "outputs": [
        {
          "output_type": "stream",
          "name": "stdout",
          "text": [
            "현재 반복 변수: 4\n",
            "현재 반복 변수: 3\n",
            "현재 반복 변수: 2\n",
            "현재 반복 변수: 1\n",
            "\n",
            "--------------------------\n",
            "현재 반복 변수: 4\n",
            "현재 반복 변수: 3\n",
            "현재 반복 변수: 2\n",
            "현재 반복 변수: 1\n",
            "현재 반복 변수: 0\n"
          ]
        }
      ]
    },
    {
      "cell_type": "code",
      "source": [
        "\"\"\"\n",
        "while boolean expressions:\n",
        "  body\n",
        "이 while 반복문은 매 회마다 boolean expressions를 계산하여 이 표현식이 참의 값을 출력하면 body를 실행한다.\n",
        "\"\"\"\n",
        "i=0\n",
        "while i<10:\n",
        "  print(\"{}번째 반복입니다.\".format(i))\n",
        "  i+=1\n"
      ],
      "metadata": {
        "colab": {
          "base_uri": "https://localhost:8080/"
        },
        "id": "c6qzolLVq_VR",
        "outputId": "ae034e74-59c8-4ee0-c7c6-3f038d2119d3"
      },
      "execution_count": 39,
      "outputs": [
        {
          "output_type": "stream",
          "name": "stdout",
          "text": [
            "0번째 반복입니다.\n",
            "1번째 반복입니다.\n",
            "2번째 반복입니다.\n",
            "3번째 반복입니다.\n",
            "4번째 반복입니다.\n",
            "5번째 반복입니다.\n",
            "6번째 반복입니다.\n",
            "7번째 반복입니다.\n",
            "8번째 반복입니다.\n",
            "9번째 반복입니다.\n"
          ]
        }
      ]
    },
    {
      "cell_type": "code",
      "source": [
        "list_test=[1,2,3,2,5,6,7,2,2,2]\n",
        "value=2\n",
        "print(list_test)\n",
        "while value in list_test: #list_test내부에 value(==2)가 있다면 반복\n",
        "  list_test.remove(value)\n",
        "\n",
        "print(list_test)"
      ],
      "metadata": {
        "colab": {
          "base_uri": "https://localhost:8080/"
        },
        "id": "ybb_c_BRr-dT",
        "outputId": "35e5d362-0dac-40a3-c3aa-580ead93f9d1"
      },
      "execution_count": 41,
      "outputs": [
        {
          "output_type": "stream",
          "name": "stdout",
          "text": [
            "[1, 2, 3, 2, 5, 6, 7, 2, 2, 2]\n",
            "[1, 3, 5, 6, 7]\n"
          ]
        }
      ]
    },
    {
      "cell_type": "code",
      "source": [
        "import time #시간과 관련된 기능을 가져온다.\n",
        "\n",
        "num=0\n",
        "\n",
        "target_tick=time.time()+5 #1970년 1월 1일 0시 0분 0초를 기준으로 몇 초가 지났는지를 정수로 나타냄\n",
        "while time.time()<target_tick:  #현재 시간이 현재 시간+5가 될 때까지 반복, 즉 5초 동안 반복한다.\n",
        "  num+=1\n",
        "print(\"5초 동안 {}번 반복했습니다.\".format(num))\n",
        "#이 출력값은 컴퓨터의 성능과 상황에 따라 반복 횟수가 달리지기에 계속 달라진다."
      ],
      "metadata": {
        "colab": {
          "base_uri": "https://localhost:8080/"
        },
        "id": "BjOKs86OsYeg",
        "outputId": "b16243aa-ea17-4a98-c783-2f1472538378"
      },
      "execution_count": 43,
      "outputs": [
        {
          "output_type": "stream",
          "name": "stdout",
          "text": [
            "5초 동안 23083019번 반복했습니다.\n"
          ]
        }
      ]
    },
    {
      "cell_type": "code",
      "source": [
        "#break라는 keyword는 반복문을 벗어날 때 사용한다.\n",
        "i=0\n",
        "while True:\n",
        "  print(\"{}번째 반복문입니다.\".format(i))\n",
        "  i+=1\n",
        "  input_text=input(\"> 반복을 종료하시겠습니까?(y): \")\n",
        "  if input_text in ['y','Y']:\n",
        "    print(\"반복을 종료합니다.\")\n",
        "    break"
      ],
      "metadata": {
        "colab": {
          "base_uri": "https://localhost:8080/"
        },
        "id": "75okcdmYtFsH",
        "outputId": "51cfb1f9-0f55-478d-c974-6fcab7180efd"
      },
      "execution_count": 46,
      "outputs": [
        {
          "output_type": "stream",
          "name": "stdout",
          "text": [
            "0번째 반복문입니다.\n",
            "> 반복을 종료하시겠습니까?(y): 2\n",
            "1번째 반복문입니다.\n",
            "> 반복을 종료하시겠습니까?(y): 3\n",
            "2번째 반복문입니다.\n",
            "> 반복을 종료하시겠습니까?(y): 4\n",
            "3번째 반복문입니다.\n",
            "> 반복을 종료하시겠습니까?(y): n\n",
            "4번째 반복문입니다.\n",
            "> 반복을 종료하시겠습니까?(y): N\n",
            "5번째 반복문입니다.\n",
            "> 반복을 종료하시겠습니까?(y): y\n",
            "반복을 종료합니다.\n"
          ]
        }
      ]
    },
    {
      "cell_type": "code",
      "source": [
        "#continue라는 keyword는 현재 반복을 생략하고, 다음 반복으로 넘어갈 때 사용하는 keyword이다.\n",
        "num=[5,15,6,20,7,25]\n",
        "for n in num:\n",
        "  if n<10:\n",
        "    continue\n",
        "  print(n)"
      ],
      "metadata": {
        "colab": {
          "base_uri": "https://localhost:8080/"
        },
        "id": "z8_trZ2Ftndu",
        "outputId": "b0bc19c0-d44c-40a3-dccb-a583059b25cf"
      },
      "execution_count": 47,
      "outputs": [
        {
          "output_type": "stream",
          "name": "stdout",
          "text": [
            "15\n",
            "20\n",
            "25\n"
          ]
        }
      ]
    },
    {
      "cell_type": "code",
      "source": [
        "#list에 적용할 수 있는 기본 함수: min(), max(), sum()\n",
        "numbers=[103,52,273,32,77]\n",
        "print(\"list:\",numbers)\n",
        "print(min(numbers))\n",
        "print(max(numbers))\n",
        "print(sum(numbers)) #list 내 모든 값들을 다 더한다."
      ],
      "metadata": {
        "colab": {
          "base_uri": "https://localhost:8080/"
        },
        "id": "Bu8eACnHuEGU",
        "outputId": "94014565-8d50-42dd-cebe-dbdcd0a3bc9b"
      },
      "execution_count": 49,
      "outputs": [
        {
          "output_type": "stream",
          "name": "stdout",
          "text": [
            "list: [103, 52, 273, 32, 77]\n",
            "32\n",
            "273\n",
            "537\n"
          ]
        }
      ]
    },
    {
      "cell_type": "code",
      "source": [
        "#list에 적용할 수 있는 기본 함수: reversed(), list뒤집기 때 사용\n",
        "list_a=[1,2,3,4,5]\n",
        "list_reversed=reversed(list_a)\n",
        "\n",
        "print(\"reversed() 함수\")\n",
        "print(\"reversed([1,2,3,4,5]):\",list_reversed)\n",
        "print(\"list(reversed([1,2,3,4,5])):\",list(list_reversed))\n",
        "print(\"number[::-1]:\",list_a[::-1])\n",
        "print(\"number[::-1]에 의한 원본 list인 list_a에 변화는 없다.\")\n",
        "print(\"list_a:\",list_a)\n",
        "print()\n",
        "\n",
        "print(\"reversed()함수와 반복문\")\n",
        "print(\"for i in reversed([1,2,3,4,5]):\")\n",
        "for i in reversed(list_a):\n",
        "  print(\"-\",i)\n",
        "\n",
        "\"\"\"\n",
        "list(list_reversed)의 return 값이 <list_reverseiterator object at 0x7e47e09e3400>로 나오는데 이는 다음과 같은 의미를 갖는다.\n",
        "\n",
        "일단 for 반복문의 구조를 다시 살펴보면\n",
        "< for 반복자 in 반복할 수 있는 것 >\n",
        "구조로 되어 있는데, 이때 반복할 수 있는 것을 iterable라 한다. 이 iterable은 내부에 있는 요소들을 차례차례 꺼낼 수 있는 object를 의미한다.\n",
        "list, dictionary, string tuple등은 모두 내부에서 요소를 차례차례 꺼낼 수 있으므로 iterable이다\n",
        "이때 iterable중 next()함수를 적용해 하나하나 꺼낼 수 있는 요소를 iterator라 한다.\n",
        "\n",
        "결론적으로 <list_reverseiterator object at 0x7e47e09e3400>(이때 0x7e47e09e3400는 주소)처럼 출력했다는 것은 return값이 reversediterator로 iterator라는 것이다.\n",
        "iterator는 반복문의 매개변수로 전달할 수 있으며 이렇게 전달되면, 반복할 때마다 next()함수로 내부의 요소를 하나하나 꺼내 주는 것이다.\n",
        "\n",
        "왜 reversed()함수는 list를 바로 return하지 않고 iterator를 return해 주냐면 메모리의 효율성을 위해서이다.\n",
        "list를 복제한 뒤 뒤집어서 return 하는 것보다 기존에 있던 list를 활용해서 작업하는 것이 훨씬 효율적으로 판단하기 때문이다.\n",
        "\"\"\""
      ],
      "metadata": {
        "colab": {
          "base_uri": "https://localhost:8080/",
          "height": 278
        },
        "id": "mf0gHN9cw3hT",
        "outputId": "0319de24-f0d1-4331-f8b5-790a030331c1"
      },
      "execution_count": 52,
      "outputs": [
        {
          "output_type": "stream",
          "name": "stdout",
          "text": [
            "reversed() 함수\n",
            "reversed([1,2,3,4,5]): <list_reverseiterator object at 0x7e47e0c121a0>\n",
            "list(reversed([1,2,3,4,5])): [5, 4, 3, 2, 1]\n",
            "number[::-1]: [5, 4, 3, 2, 1]\n",
            "number[::-1]에 의한 원본 list인 list_a에 변화는 없다.\n",
            "list_a: [1, 2, 3, 4, 5]\n",
            "\n",
            "reversed()함수와 반복문\n",
            "for i in reversed([1,2,3,4,5]):\n",
            "- 5\n",
            "- 4\n",
            "- 3\n",
            "- 2\n",
            "- 1\n"
          ]
        },
        {
          "output_type": "execute_result",
          "data": {
            "text/plain": [
              "'\\nlist(list_reversed)의 return 값이 <list_reverseiterator object at 0x7e47e09e3400>로 나오는데 이는 다음과 같은 의미를 갖는다.\\n\\n'"
            ],
            "application/vnd.google.colaboratory.intrinsic+json": {
              "type": "string"
            }
          },
          "metadata": {},
          "execution_count": 52
        }
      ]
    },
    {
      "cell_type": "code",
      "source": [
        "temp=reversed([1,2,3,4,5,6])\n",
        "for i in temp:\n",
        "  print(\"첫 번째 반복문: {}\".format(i))\n",
        "print()\n",
        "\n",
        "for i in temp:\n",
        "  print(\"두 번째 반복문: {}\".format(i))\n",
        "\"\"\"\n",
        "출력해보면 두 번째 반복문은 출력이 안된다. 왜냐하면 reversed()함수의 결과가 generator이기 때문이다.\n",
        "\n",
        "\"\"\""
      ],
      "metadata": {
        "colab": {
          "base_uri": "https://localhost:8080/"
        },
        "id": "L77-ICw9x1nt",
        "outputId": "5bc0493c-91bd-483e-ce16-fe37ca854726"
      },
      "execution_count": 51,
      "outputs": [
        {
          "output_type": "stream",
          "name": "stdout",
          "text": [
            "첫 번째 반복문: 6\n",
            "첫 번째 반복문: 5\n",
            "첫 번째 반복문: 4\n",
            "첫 번째 반복문: 3\n",
            "첫 번째 반복문: 2\n",
            "첫 번째 반복문: 1\n",
            "\n"
          ]
        }
      ]
    },
    {
      "cell_type": "code",
      "source": [
        "#list에 적용할 수 있는 기본 함수: enumerate()\n",
        "ex_list=[\"element A\",\"element B\",\"element C\"]\n",
        "\n",
        "print(\"단순 출력\")\n",
        "print(ex_list)\n",
        "print()\n",
        "\n",
        "print(\"enumberate()함수 적용 출력\")\n",
        "print(enumerate(ex_list))\n",
        "print()\n",
        "\n",
        "print(\"list()함수로 강제 변환 출력\")\n",
        "print(list(enumerate(ex_list)))\n",
        "print()\n",
        "\n",
        "print(\"반복문과 enumerate()함수 조합하기\")\n",
        "for i, value in enumerate(ex_list):\n",
        "  print(\"{}번째 요소는 {}입니다.\".format(i,value))"
      ],
      "metadata": {
        "colab": {
          "base_uri": "https://localhost:8080/"
        },
        "id": "tnDQtJMqyub_",
        "outputId": "4b1c3785-74b4-4c94-c36f-4976ce1859e9"
      },
      "execution_count": 54,
      "outputs": [
        {
          "output_type": "stream",
          "name": "stdout",
          "text": [
            "단순 출력\n",
            "['element A', 'element B', 'element C']\n",
            "\n",
            "enumberate()함수 적용 출력\n",
            "<enumerate object at 0x7e47e08836a0>\n",
            "\n",
            "list()함수로 강제 변환 출력\n",
            "[(0, 'element A'), (1, 'element B'), (2, 'element C')]\n",
            "\n",
            "반복문과 enumerate()함수 조합하기\n",
            "0번째 요소는 element A입니다.\n",
            "1번째 요소는 element B입니다.\n",
            "2번째 요소는 element C입니다.\n"
          ]
        }
      ]
    },
    {
      "cell_type": "code",
      "source": [
        "#dictionary는 items()함수와 함께 사용하면 key와 value값을 조합해서 쉽게 반복문을 작성할 수 있다.\n",
        "ex_dictionary={\n",
        "    \"키A\":\"값A\",\n",
        "    \"키B\":\"값B\",\n",
        "    \"키C\":\"값C\"\n",
        "}\n",
        "print(\"dictionary의 items()함수 결과 출력\")\n",
        "print(\"items():\",ex_dictionary.items())\n",
        "print()\n",
        "\n",
        "print(\"dictionary의 items()함수와 반복문 조합하기\")\n",
        "for key,element in ex_dictionary.items():\n",
        "  print(\"dictionary[{}] = {}\".format(key,element))\n",
        ""
      ],
      "metadata": {
        "colab": {
          "base_uri": "https://localhost:8080/"
        },
        "id": "3CpxYYtBz5WH",
        "outputId": "8cfc3eab-c3c5-41cf-d0da-c02f47f7d56e"
      },
      "execution_count": 55,
      "outputs": [
        {
          "output_type": "stream",
          "name": "stdout",
          "text": [
            "dictionary의 items()함수 결과 출력\n",
            "items(): dict_items([('키A', '값A'), ('키B', '값B'), ('키C', '값C')])\n",
            "\n",
            "dictionary의 items()함수와 반복문 조합하기\n",
            "dictionary[키A] = 값A\n",
            "dictionary[키B] = 값B\n",
            "dictionary[키C] = 값C\n"
          ]
        }
      ]
    },
    {
      "cell_type": "code",
      "source": [
        "array=[]\n",
        "for i in range(0,20,2):\n",
        "  array.append(i*i)\n",
        "print(array)\n",
        "print()\n",
        "\n",
        "print(\"-------------다른 방법--------------------\")\n",
        "array=[i*i for i in range(0,20,2)]  #range(0,20,2)의 요소를 i라 할 때 i*i로 list를 재조합해 주세요라는 코드이다. 이런 구문을 list comprehensions라 부른다.\n",
        "print(array)\n",
        "print()\n",
        "\"\"\"\n",
        "list comprehensions의 구조\n",
        "list name=[표현식 for 반복자 in 반복할 수 있는 것]\n",
        "\"\"\"\n",
        "print(\"-------------예시-----------------------\")\n",
        "#array의 요소를 fruit라 할 때 초콜릿이 아닌 fruit로 list를 재조합해 주세요라는 코드이다.\n",
        "array=[\"사과\",\"자두\",\"초콜릿\",\"바나나\",\"체리\"]\n",
        "output=[fruit for fruit in array if fruit !=\"초콜릿\"]\n",
        "print(output)"
      ],
      "metadata": {
        "colab": {
          "base_uri": "https://localhost:8080/"
        },
        "id": "s6K59QRa0z7p",
        "outputId": "55ade275-23c8-4bd6-fa5d-c8816ba2249b"
      },
      "execution_count": 58,
      "outputs": [
        {
          "output_type": "stream",
          "name": "stdout",
          "text": [
            "[0, 4, 16, 36, 64, 100, 144, 196, 256, 324]\n",
            "\n",
            "-------------다른 방법--------------------\n",
            "[0, 4, 16, 36, 64, 100, 144, 196, 256, 324]\n",
            "\n",
            "-------------예시-----------------------\n",
            "['사과', '자두', '바나나', '체리']\n"
          ]
        }
      ]
    },
    {
      "cell_type": "code",
      "source": [
        "number=int(input(\"정수 입력> \"))\n",
        "\n",
        "if number %2==0:\n",
        "  print(\"\"\"\\\n",
        "  입력한 문자열은 {}입니다.\n",
        "  {}는 짝수입니다.\"\"\".format(number,number))\n",
        "else:\n",
        "  print(\"\"\"\\\n",
        "  입력한 문자열은 {}입니다.\n",
        "  {}는 홀수입니다.\"\"\".format(number,number))\n",
        "\n",
        "\"\"\"\n",
        "위 코드의 출력을 보면 다음과 같다.\n",
        "\n",
        "정수 입력> 4\n",
        "  입력한 문자열은 4입니다.\n",
        "  4는 짝수입니다.\n",
        "\n",
        "이처럼 출력에 들여쓰기가 있어 보기 안좋다. 그러므로 들여쓰기는 다음 코드와 같이 제거시킬 수 있다.\n",
        "\"\"\"\n",
        "\n",
        "print(\"----------개선---------\")\n",
        "number=int(input(\"정수 입력> \"))\n",
        "\n",
        "if number %2==0:\n",
        "  print((\n",
        "      \"입력한 문자열은 {}입니다. \\n\"\n",
        "      \"{}는 짝수입니다.\"\n",
        "  ).format(number,number))\n",
        "else:\n",
        "  print((\n",
        "      \"입력한 문자열은 {}입니다. \\n\"\n",
        "      \"{}는 홀수입니다.\"\n",
        "  ).format(number,number))\n",
        "\n",
        "print(\"--------다른 방법-------\")\n",
        "#문자열.join(문자열로 구성된 리스트) <-이러한 형태를 갖는 join()함수로 해결할 수 있다.\n",
        "#join()함수는 list의 element를 문자열로 연결한다.\n",
        "number=int(input(\"정수 입력> \"))\n",
        "\n",
        "if number %2==0:\n",
        "  print(\"\\n\".join([\n",
        "      \"입력한 문자열은 {}입니다.\",\n",
        "      \"{}는 짝수입니다.\"\n",
        "  ]).format(number,number))\n",
        "else:\n",
        "  print(\"\\n\".join([\n",
        "      \"입력한 문자열은 {}입니다.\",\n",
        "      \"{}는 홀수입니다.\"\n",
        "  ]).format(number,number))"
      ],
      "metadata": {
        "colab": {
          "base_uri": "https://localhost:8080/"
        },
        "id": "NJo9FVCm2nSl",
        "outputId": "8efe87aa-da1a-45ff-976f-45814e4f84da"
      },
      "execution_count": 62,
      "outputs": [
        {
          "output_type": "stream",
          "name": "stdout",
          "text": [
            "정수 입력> 4\n",
            "  입력한 문자열은 4입니다.\n",
            "  4는 짝수입니다.\n",
            "----------개선---------\n",
            "정수 입력> 5\n",
            "입력한 문자열은 5입니다. \n",
            "5는 홀수입니다.\n",
            "--------다른 방법-------\n",
            "정수 입력> 6\n",
            "입력한 문자열은 6입니다.\n",
            "6는 짝수입니다.\n"
          ]
        }
      ]
    },
    {
      "cell_type": "code",
      "source": [],
      "metadata": {
        "id": "2LZsbSP0267H"
      },
      "execution_count": null,
      "outputs": []
    }
  ]
}