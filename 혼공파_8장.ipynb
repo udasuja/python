{
  "nbformat": 4,
  "nbformat_minor": 0,
  "metadata": {
    "colab": {
      "provenance": []
    },
    "kernelspec": {
      "name": "python3",
      "display_name": "Python 3"
    },
    "language_info": {
      "name": "python"
    }
  },
  "cells": [
    {
      "cell_type": "markdown",
      "source": [
        "python은 object oriented programming language이다. 즉 object를 우선으로 생각해서 programming을 한다.\n",
        "\n",
        "이때 class라는 것을 기반으로 object를 만들고, 이러한 object를 우선으로 생각해서 programming하는 것을 이념으로 삼고 있다."
      ],
      "metadata": {
        "id": "3C7n0X_Xnhtz"
      }
    },
    {
      "cell_type": "markdown",
      "source": [
        "현실의 object는 많은 속성을 갖는다. 이러한 object를 program에서 구현하기 위해서는 필요한 요소만을 사용해서 object를 표현하는 abstraction기법이 필요하다."
      ],
      "metadata": {
        "id": "m9M9HHMan_9f"
      }
    },
    {
      "cell_type": "code",
      "execution_count": 2,
      "metadata": {
        "colab": {
          "base_uri": "https://localhost:8080/"
        },
        "id": "sH8kE-TynZD9",
        "outputId": "f7d5e6a2-a87f-4dde-ae4b-3bc98e98e91a"
      },
      "outputs": [
        {
          "output_type": "stream",
          "name": "stdout",
          "text": [
            "이름\t총점\t평균\n",
            "윤인성\t368\t92.0\n",
            "연하진\t384\t96.0\n",
            "구지연\t356\t89.0\n",
            "나선주\t378\t94.5\n",
            "윤아린\t389\t97.25\n",
            "윤명월\t336\t84.0\n"
          ]
        }
      ],
      "source": [
        "#dictionary로 object 만들기\n",
        "students = [\n",
        "    {\"name\":\"윤인성\",\"korean\":87,\"math\":98,\"english\":88,\"science\":95},\n",
        "    {\"name\":\"연하진\",\"korean\":92,\"math\":98,\"english\":96,\"science\":98},\n",
        "    {\"name\":\"구지연\",\"korean\":76,\"math\":96,\"english\":94,\"science\":90},\n",
        "    {\"name\":\"나선주\",\"korean\":98,\"math\":92,\"english\":96,\"science\":92},\n",
        "    {\"name\":\"윤아린\",\"korean\":95,\"math\":98,\"english\":98,\"science\":98},\n",
        "    {\"name\":\"윤명월\",\"korean\":64,\"math\":88,\"english\":92,\"science\":92}\n",
        "]\n",
        "\n",
        "#학생을 한 명씩 반복한다.\n",
        "print(\"이름\",\"총점\",\"평균\",sep='\\t')\n",
        "for student in students:\n",
        "  #점수의 총합과 평균을 구한다.\n",
        "  score_sum=student[\"korean\"]+student[\"math\"]+student[\"english\"]+student[\"science\"]\n",
        "  score_average=score_sum/4\n",
        "\n",
        "  print(student[\"name\"],score_sum,score_average,sep='\\t')"
      ]
    },
    {
      "cell_type": "markdown",
      "source": [
        "## 위 코드 설명\n",
        "\n",
        "dictionary로 학생을 표현하고 이를 list로 묶어 학생들을 표현했다.\n",
        "\n",
        "이때 각 학생은 각 과목 성적, 이름등 여러 가지 속성을 가질 수 있는데 이러한 대상을 object라 부른다.\n",
        "\n",
        "programming language에서는 속성을 가질 수 있는 모든 것을 object라 부른다."
      ],
      "metadata": {
        "id": "VTK4DC_MpVW_"
      }
    },
    {
      "cell_type": "code",
      "source": [
        "#dictionary를 return하는 함수를 선언한다.\n",
        "def create_student(name, korean, math, english, science):\n",
        "  return {\n",
        "      \"name\":name,\n",
        "      \"korean\":korean,\n",
        "      \"math\":math,\n",
        "      \"english\":english,\n",
        "      \"science\":science\n",
        "  }\n",
        "\n",
        "#학생 list 선언\n",
        "students=[\n",
        "    create_student(\"윤인성\",87,98,88,95),\n",
        "    create_student(\"연하진\",92,98,96,98),\n",
        "    create_student(\"구지연\",76,96,94,90),\n",
        "    create_student(\"나선주\",98,92,96,92),\n",
        "    create_student(\"윤아린\",95,98,98,98),\n",
        "    create_student(\"윤명월\",64,88,92,92)\n",
        "]\n",
        "\n",
        "\n",
        "#학생을 한 명씩 반복한다.\n",
        "print(\"이름\",\"총점\",\"평균\",sep='\\t')\n",
        "for student in students:\n",
        "  #점수의 총합과 평균을 구한다.\n",
        "  score_sum=student[\"korean\"]+student[\"math\"]+student[\"english\"]+student[\"science\"]\n",
        "  score_average=score_sum/4\n",
        "\n",
        "  print(student[\"name\"],score_sum,score_average,sep='\\t')"
      ],
      "metadata": {
        "colab": {
          "base_uri": "https://localhost:8080/"
        },
        "id": "htvasfD3pwLB",
        "outputId": "5bfd6ace-6a0c-4370-f9dd-98283587e095"
      },
      "execution_count": 3,
      "outputs": [
        {
          "output_type": "stream",
          "name": "stdout",
          "text": [
            "이름\t총점\t평균\n",
            "윤인성\t368\t92.0\n",
            "연하진\t384\t96.0\n",
            "구지연\t356\t89.0\n",
            "나선주\t378\t94.5\n",
            "윤아린\t389\t97.25\n",
            "윤명월\t336\t84.0\n"
          ]
        }
      ]
    },
    {
      "cell_type": "code",
      "source": [
        "#여기서부터-------------------------------------\n",
        "#dictionary를 return하는 함수를 선언한다.\n",
        "def create_student(name, korean, math, english, science):\n",
        "  return {\n",
        "      \"name\":name,\n",
        "      \"korean\":korean,\n",
        "      \"math\":math,\n",
        "      \"english\":english,\n",
        "      \"science\":science\n",
        "  }\n",
        "#학생을 처리하는 함수 선언\n",
        "def student_get_sum(student):\n",
        "  return student[\"korean\"]+student[\"math\"]+student[\"english\"]+student[\"science\"]\n",
        "\n",
        "def student_get_average(student):\n",
        "  return student_get_sum(student)/4\n",
        "\n",
        "def student_to_string(student):\n",
        "  return \"{}\\t{}\\t{}\".format(student[\"name\"],student_get_sum(student),student_get_average(student))\n",
        "#------------------------여기까지가 학생 object와 관련된 부분이다.\n",
        "\n",
        "#여기서부터-----------------------------------\n",
        "#학생 list 선언\n",
        "students=[\n",
        "    create_student(\"윤인성\",87,98,88,95),\n",
        "    create_student(\"연하진\",92,98,96,98),\n",
        "    create_student(\"구지연\",76,96,94,90),\n",
        "    create_student(\"나선주\",98,92,96,92),\n",
        "    create_student(\"윤아린\",95,98,98,98),\n",
        "    create_student(\"윤명월\",64,88,92,92)\n",
        "]\n",
        "\n",
        "print(\"이름\",\"총점\",\"평균\",sep=\"\\t\")\n",
        "for student in students:\n",
        "  print(student_to_string(student))\n",
        "#------------------여기까지가 object를 활용하는 처리이다.\n",
        "\n",
        "#이러한 형태로 object와 관련된 코드를 분리할 수 있게 하는 것이 object oriented programming의 핵심이다.\n",
        "#위와 같은 코드도 일종의 object oriented programming이다. 이러한 코드를 더 효율적으로 만들기 위해 class라는 구조를 만들게 되었다."
      ],
      "metadata": {
        "colab": {
          "base_uri": "https://localhost:8080/"
        },
        "id": "FsOGt1u3qmFX",
        "outputId": "32190dd1-52c8-4ee5-b9ca-57259ff2b928"
      },
      "execution_count": 4,
      "outputs": [
        {
          "output_type": "stream",
          "name": "stdout",
          "text": [
            "이름\t총점\t평균\n",
            "윤인성\t368\t92.0\n",
            "연하진\t384\t96.0\n",
            "구지연\t356\t89.0\n",
            "나선주\t378\t94.5\n",
            "윤아린\t389\t97.25\n",
            "윤명월\t336\t84.0\n"
          ]
        }
      ]
    },
    {
      "cell_type": "markdown",
      "source": [
        "## class\n",
        "\n",
        "    class class_name:\n",
        "      class_body\n",
        "class는 object를 조금 더 효율적으로 생성하기 위해서 만들어진 구문이다.\n",
        "\n",
        "class는 class_name과 같은 함수인 일명 생성자를 사용해서 object를 만든다.\n",
        "\n",
        "    instance_name(variable_name) = class_name()\n",
        "이러한 생성자 class_name()로 만들어진 object를 instance라 부른다."
      ],
      "metadata": {
        "id": "013AD0NIr_lw"
      }
    },
    {
      "cell_type": "markdown",
      "source": [
        "class 내부에 \\_\\_init\\_\\_라는 함수를 만들면 object를 생성할 때 처리할 내용을 작성할 수 있다.\n",
        "\n",
        "    class class_name:\n",
        "      def __init__(self, 추가적인 매개변수):\n",
        "        pass\n",
        "class 내부의 함수는 첫 번째 매개변수로 반드시 self를 입력해야한다. self는 자기 자신을 나타내는 dictionary이다. 다만 slef가 갖고 있는 속성과 기능에 접근할 때는 self.<식별자> 형태로 접근하낟.\n",
        "\n"
      ],
      "metadata": {
        "id": "goM7cbuus08g"
      }
    },
    {
      "cell_type": "code",
      "source": [
        "#class 선언\n",
        "class Student:\n",
        "  #Student instance가 생성될 때 속성이 직접 추가된다.\n",
        "  def __init__(self,name,korean,math,english,science):\n",
        "    self.name=name\n",
        "    self.korean=korean\n",
        "    self.math=math\n",
        "    self.english=english\n",
        "    self.science=science\n",
        "\n",
        "#학생 list 선언\n",
        "students=[\n",
        "    Student(\"윤인성\",87,98,88,95),\n",
        "    Student(\"연하진\",92,98,96,98),\n",
        "    Student(\"구지연\",76,96,94,90),\n",
        "    Student(\"나선주\",98,92,96,92),\n",
        "    Student(\"윤아린\",95,98,98,98),\n",
        "    Student(\"윤명월\",64,88,92,92)\n",
        "]\n",
        "\n",
        "#Student instance의 속성에 접근하는 방법\n",
        "print(students[0].name)\n",
        "print(students[0].korean)\n",
        "print(students[0].math)\n",
        "print(students[0].english)\n",
        "print(students[0].science)"
      ],
      "metadata": {
        "colab": {
          "base_uri": "https://localhost:8080/"
        },
        "id": "Ru0QWUZBsxCn",
        "outputId": "9f1cc879-9079-442a-e71a-eb90c538798b"
      },
      "execution_count": 12,
      "outputs": [
        {
          "output_type": "stream",
          "name": "stdout",
          "text": [
            "윤인성\n",
            "87\n",
            "98\n",
            "88\n",
            "95\n"
          ]
        }
      ]
    },
    {
      "cell_type": "markdown",
      "source": [
        "생성자와 반대로 instance가 소멸될 때 호출되는 함수인 destructor도 있다.\n",
        "\n",
        "    def __del__(self):\n",
        "      body\n",
        "class 내부에 위와 같은 형태로 함수를 선언해서 만든다."
      ],
      "metadata": {
        "id": "0o38fApiuvpR"
      }
    },
    {
      "cell_type": "markdown",
      "source": [
        "class가 갖고 있는 함수를 method라 부른다. 생성자와 선언하는 방법과 같은데, 다만 첫 번째 매개변수로 self를 넣어야 한다.\n",
        "\n",
        "    class class_name:\n",
        "      def method_name(self, 추가적인 매개변수):\n",
        "        body"
      ],
      "metadata": {
        "id": "rK3QmtUtvAZ8"
      }
    },
    {
      "cell_type": "code",
      "source": [
        "#class 선언\n",
        "class Student:\n",
        "  #Student instance가 생성될 때 속성이 직접 추가된다.\n",
        "  def __init__(self,name,korean,math,english,science):\n",
        "    self.name=name\n",
        "    self.korean=korean\n",
        "    self.math=math\n",
        "    self.english=english\n",
        "    self.science=science\n",
        "\n",
        "  def get_sum(self):\n",
        "    return self.korean+self.math+self.english+self.science\n",
        "\n",
        "  def get_average(self):\n",
        "    return self.get_sum()/4\n",
        "\n",
        "  def to_string(self):\n",
        "    return \"{}\\t{}\\t{}\".format(self.name,self.get_sum(),self.get_average())\n",
        "\n",
        "#학생 list 선언\n",
        "students=[\n",
        "    Student(\"윤인성\",87,98,88,95),\n",
        "    Student(\"연하진\",92,98,96,98),\n",
        "    Student(\"구지연\",76,96,94,90),\n",
        "    Student(\"나선주\",98,92,96,92),\n",
        "    Student(\"윤아린\",95,98,98,98),\n",
        "    Student(\"윤명월\",64,88,92,92)\n",
        "]\n",
        "\n",
        "\n",
        "print(\"이름\",\"총점\",\"평균\",sep=\"\\t\")\n",
        "for student in students:\n",
        "  print(student.to_string())"
      ],
      "metadata": {
        "colab": {
          "base_uri": "https://localhost:8080/"
        },
        "id": "mvDamddHvZUs",
        "outputId": "fbf74950-b23f-46dd-bcc3-b9e0e6422e39"
      },
      "execution_count": 14,
      "outputs": [
        {
          "output_type": "stream",
          "name": "stdout",
          "text": [
            "이름\t총점\t평균\n",
            "윤인성\t368\t92.0\n",
            "연하진\t384\t96.0\n",
            "구지연\t356\t89.0\n",
            "나선주\t378\t94.5\n",
            "윤아린\t389\t97.25\n",
            "윤명월\t336\t84.0\n"
          ]
        }
      ]
    },
    {
      "cell_type": "markdown",
      "source": [
        "어떤 class를 기반으로 그 속성과 기능을 물려받아 새로운 class를 만드는 것을 상속이라 부른다.\n",
        "\n",
        "상속 관계에 따라서 object가 어떤 class를 기반으로 만들었는지 확인할 수 있게 해주는 isinstance()함수, python이 기본적으로 제공하는 str()함수 혹은 연산자를 이용해서 class의 특정 함수를 호출할 수 있는 기능 등을 python이 지원한다."
      ],
      "metadata": {
        "id": "N9cTiQEdwPs0"
      }
    },
    {
      "cell_type": "markdown",
      "source": [
        "object(instance)가 어떤 class로부터 만들어졌는지 확인할 수 있도록 isinstance()함수를 제공한다. 이때 isinstance()는 상속 관계까지 확인한다.\n",
        "\n",
        "    isinstance(instance, class)\n",
        "이때 instance가 해당 class를 기반으로 만들어졌다면 True를 return 아니면 False를 return 한다."
      ],
      "metadata": {
        "id": "q9-VY2kewxvV"
      }
    },
    {
      "cell_type": "code",
      "source": [
        "class Student:\n",
        "  def __init__(self):\n",
        "    pass\n",
        "\n",
        "student=Student() #student가 object를 가리키는 instance가 된다.\n",
        "\n",
        "print(\"isinstance(student, Student):\",isinstance(student, Student)) #student라는 instance가 Student라는 class로 만들어졌다면 True출력"
      ],
      "metadata": {
        "colab": {
          "base_uri": "https://localhost:8080/"
        },
        "id": "lP0QYij-xBwN",
        "outputId": "e2fe9df3-b9da-4283-f249-b0db854ecf53"
      },
      "execution_count": 15,
      "outputs": [
        {
          "output_type": "stream",
          "name": "stdout",
          "text": [
            "isinstance(student, Student): True\n"
          ]
        }
      ]
    },
    {
      "cell_type": "code",
      "source": [
        "class Student:\n",
        "  def study(self):\n",
        "    print(\"공부를 합니다.\")\n",
        "\n",
        "class Teacher:\n",
        "  def teach(self):\n",
        "    print(\"학생을 가르칩니다.\")\n",
        "\n",
        "#교실 내부의 object list를 생성한다.\n",
        "classroom=[Student(),Student(),Teacher(),Student(),Student()]\n",
        "\n",
        "#반복을 적용해서 적절한 함수를 호출하게 한다.\n",
        "for person in classroom:\n",
        "  if isinstance(person,Student):\n",
        "    person.study()\n",
        "  elif isinstance(person,Teacher):\n",
        "    person.teach()"
      ],
      "metadata": {
        "colab": {
          "base_uri": "https://localhost:8080/"
        },
        "id": "yqFxCaWYxyjp",
        "outputId": "0da51c18-4a75-4e8c-d76c-f96db7c086a8"
      },
      "execution_count": 17,
      "outputs": [
        {
          "output_type": "stream",
          "name": "stdout",
          "text": [
            "공부를 합니다.\n",
            "공부를 합니다.\n",
            "학생을 가르칩니다.\n",
            "공부를 합니다.\n",
            "공부를 합니다.\n"
          ]
        }
      ]
    },
    {
      "cell_type": "markdown",
      "source": [
        "내가 임의로 class를 만들때 만들지 않아도 python이 class를 사용할 때 제공해 주는 보조 기능이 존재한다. 이들의 이름은 \\_\\_<이름>\\_\\_()형태로 되어있다.\n",
        "\n"
      ],
      "metadata": {
        "id": "kcoYa2fRyiAJ"
      }
    },
    {
      "cell_type": "code",
      "source": [
        "class Student:\n",
        "  def __init__(self,name,korean,math,english,science):\n",
        "    self.name=name\n",
        "    self.korean=korean\n",
        "    self.math=math\n",
        "    self.english=english\n",
        "    self.science=science\n",
        "\n",
        "  def get_sum(self):\n",
        "    return self.korean+self.math+self.english+self.science\n",
        "  def get_average(self):\n",
        "    return self.get_sum()/4\n",
        "\n",
        "  #__str__()라는 이름으로 함수를 선언했다.\n",
        "  def __str__(self):\n",
        "    return \"{}\\t{}\\t{}\".format(self.name,self.get_sum(),self.get_average())\n",
        "\n",
        "#학생 list 선언\n",
        "students=[\n",
        "    Student(\"윤인성\",87,98,88,95),\n",
        "    Student(\"연하진\",92,98,96,98),\n",
        "    Student(\"구지연\",76,96,94,90),\n",
        "    Student(\"나선주\",98,92,96,92),\n",
        "    Student(\"윤아린\",95,98,98,98),\n",
        "    Student(\"윤명월\",64,88,92,92)\n",
        "]\n",
        "\n",
        "print(\"이름\",\"총점\",\"평균\",sep=\"\\t\")\n",
        "for student in students:\n",
        "  print(str(student)) #str()함수의 매개변수로 넣으면 student의 __str__()함수가 호출된다."
      ],
      "metadata": {
        "colab": {
          "base_uri": "https://localhost:8080/"
        },
        "id": "evAst--5y2X0",
        "outputId": "4c334009-095f-4791-e8c3-308a78e558cc"
      },
      "execution_count": 19,
      "outputs": [
        {
          "output_type": "stream",
          "name": "stdout",
          "text": [
            "이름\t총점\t평균\n",
            "윤인성\t368\t92.0\n",
            "연하진\t384\t96.0\n",
            "구지연\t356\t89.0\n",
            "나선주\t378\t94.5\n",
            "윤아린\t389\t97.25\n",
            "윤명월\t336\t84.0\n"
          ]
        }
      ]
    },
    {
      "cell_type": "code",
      "source": [
        "class Student:\n",
        "  def __init__(self,name,korean,math,english,science):\n",
        "    self.name=name\n",
        "    self.korean=korean\n",
        "    self.math=math\n",
        "    self.english=english\n",
        "    self.science=science\n",
        "\n",
        "  def get_sum(self):\n",
        "    return self.korean+self.math+self.english+self.science\n",
        "  def get_average(self):\n",
        "    return self.get_sum()/4\n",
        "\n",
        "  #__str__()라는 이름으로 함수를 선언했다.\n",
        "  def __str__(self,student):\n",
        "    return \"{}\\t{}\\t{}\".format(self.name,self.get_sum(student),self.get_average(student))\n",
        "\n",
        "  def __eq__(self,value):\n",
        "    return self.get_sum()==value.get_sum()\n",
        "\n",
        "  def __ne__(self,value):\n",
        "    return self.get_sum()!=value.get_sum()\n",
        "\n",
        "  def __gt__(self,value):\n",
        "    return self.get_sum()>value.get_sum()\n",
        "\n",
        "  def __ge__(self, value):\n",
        "    return self.get_sum()>=value.get_sum()\n",
        "\n",
        "  def __lt__(self,value):\n",
        "    return self.get_sum()<value.get_sum()\n",
        "\n",
        "  def __le____(self,value):\n",
        "    return self.get_sum()<=value.get_sum()\n",
        "\n",
        "\n",
        "#학생 list 선언\n",
        "students=[\n",
        "    Student(\"윤인성\",87,98,88,95),\n",
        "    Student(\"연하진\",92,98,96,98),\n",
        "    Student(\"구지연\",76,96,94,90),\n",
        "    Student(\"나선주\",98,92,96,92),\n",
        "    Student(\"윤아린\",95,98,98,98),\n",
        "    Student(\"윤명월\",64,88,92,92)\n",
        "]\n",
        "\n",
        "student_a=Student(\"윤인성\",87,98,88,95),\n",
        "student_b=Student(\"연하진\",92,98,96,98),\n",
        "\n",
        "print(\"student_a==student_b= \",student_a == student_b)\n",
        "print(\"student_a!=student_b= \",student_a != student_b)\n",
        "print(\"student_a> student_b= \",student_a >  student_b)\n",
        "print(\"student_a>=student_b= \",student_a >= student_b)\n",
        "print(\"student_a< student_b= \",student_a < student_b)\n",
        "print(\"student_a<=student_b= \",student_a <= student_b)"
      ],
      "metadata": {
        "colab": {
          "base_uri": "https://localhost:8080/"
        },
        "id": "bcx_jPv80LUj",
        "outputId": "679ea906-75c7-4332-d19a-30810d566b17"
      },
      "execution_count": 21,
      "outputs": [
        {
          "output_type": "stream",
          "name": "stdout",
          "text": [
            "student_a==student_b=  False\n",
            "student_a!=student_b=  True\n",
            "student_a> student_b=  False\n",
            "student_a>=student_b=  False\n",
            "student_a< student_b=  True\n",
            "student_a<=student_b=  True\n"
          ]
        }
      ]
    },
    {
      "cell_type": "markdown",
      "source": [
        "instance가 속성과 기능을 가질 수도 있지만, class가 속성(변수)과 기능(함수)를 가질 수도 잇다.\n",
        "\n",
        "class 변수\n",
        "\n",
        "    class class_name:\n",
        "      class_variable=value\n",
        "class_variable에 접근\n",
        "\n",
        "    class_name.variable_name"
      ],
      "metadata": {
        "id": "Q2hC8S1A13Je"
      }
    },
    {
      "cell_type": "code",
      "source": [
        "class Student:\n",
        "  count =0\n",
        "\n",
        "  def __init__(self, name, korean, math, english, science):\n",
        "    #instance variable 초기화\n",
        "    self.name=name\n",
        "    self.korean=korean\n",
        "    self.math=math\n",
        "    self.english=english\n",
        "    self.science=science\n",
        "\n",
        "    #class_variable 설정\n",
        "    Student.count+=1\n",
        "    print(\"{}번째 학생이 생성되었습니다.\".format(Student.count))\n",
        "\n",
        "\n",
        "#학생 list 선언\n",
        "students=[\n",
        "    Student(\"윤인성\",87,98,88,95),\n",
        "    Student(\"연하진\",92,98,96,98),\n",
        "    Student(\"구지연\",76,96,94,90),\n",
        "    Student(\"나선주\",98,92,96,92),\n",
        "    Student(\"윤아린\",95,98,98,98),\n",
        "    Student(\"윤명월\",64,88,92,92)\n",
        "]\n",
        "\n",
        "print()\n",
        "print(\"현재 생성된 총 학생 수는 {}명입니다.\".format(Student.count)) #class 내/외부에서 class variable에 접근할 때 class_name.variable_name 형태로 접근한다."
      ],
      "metadata": {
        "colab": {
          "base_uri": "https://localhost:8080/"
        },
        "id": "dysF4Fib2NKa",
        "outputId": "4a6d95c8-2789-4e1d-d7cc-3f712524625a"
      },
      "execution_count": 22,
      "outputs": [
        {
          "output_type": "stream",
          "name": "stdout",
          "text": [
            "1번째 학생이 생성되었습니다.\n",
            "2번째 학생이 생성되었습니다.\n",
            "3번째 학생이 생성되었습니다.\n",
            "4번째 학생이 생성되었습니다.\n",
            "5번째 학생이 생성되었습니다.\n",
            "6번째 학생이 생성되었습니다.\n",
            "\n",
            "현재 생성된 총 학생 수는 6명입니다.\n"
          ]
        }
      ]
    },
    {
      "cell_type": "markdown",
      "source": [
        "class function도 그냥 class가 가진 함수이다\n",
        "\n",
        "생성하는 방법은 다음과 같다.\n",
        "\n",
        "    class class_name:\n",
        "      @classmethod\n",
        "      def class_function_name(cls, 매개변수):\n",
        "        body\n",
        "이때 @classmethod부분을 decorator라 부른다.\n",
        "\n",
        "class function의 첫 번째 매개변수에는 class자체가 들어온다. 일반적으로 cls라는 이름의 변수로 선언하며, 이렇게 만들어진 class function은 다음과 같이 사용한다.\n",
        "\n",
        "    class_name.function_name(매개변수)"
      ],
      "metadata": {
        "id": "Cfgp06963Twq"
      }
    },
    {
      "cell_type": "code",
      "source": [
        "class Student:\n",
        "  #class variable\n",
        "  count=0\n",
        "  students=[]\n",
        "\n",
        "  #class function\n",
        "  @classmethod\n",
        "  def print(cls):\n",
        "    print(\"------ 학생 목록 -------\")\n",
        "    print(\"이름\\t총점\\t평균\")\n",
        "    for student in cls.students:\n",
        "      print(str(student))\n",
        "    print(\"------ ------ ------\")\n",
        "\n",
        "  #instance function\n",
        "  def __init__(self, name, korean, math, english, science):\n",
        "    self.name=name\n",
        "    self.korean=korean\n",
        "    self.math=math\n",
        "    self.english=english\n",
        "    self.science=science\n",
        "    Student.count+=1\n",
        "    Student.students.append(self)\n",
        "\n",
        "  def get_sum(self):\n",
        "    return self.korean+self.math+self.english+self.science\n",
        "  def get_average(self):\n",
        "    return self.get_sum()/4\n",
        "\n",
        "  def __str__(self):\n",
        "    return \"{}\\t{}\\t{}\".format(self.name,self.get_sum(),self.get_average())\n",
        "\n",
        "\n",
        "#학생 list 선언\n",
        "Student(\"윤인성\",87,98,88,95)\n",
        "Student(\"연하진\",92,98,96,98)\n",
        "Student(\"구지연\",76,96,94,90)\n",
        "Student(\"나선주\",98,92,96,92)\n",
        "Student(\"윤아린\",95,98,98,98)\n",
        "Student(\"윤명월\",64,88,92,92)\n",
        "\n",
        "Student.print()"
      ],
      "metadata": {
        "colab": {
          "base_uri": "https://localhost:8080/"
        },
        "id": "G3LbmBxv35DP",
        "outputId": "64d700e9-bc53-4be3-b22b-b3da18ecbe28"
      },
      "execution_count": 24,
      "outputs": [
        {
          "output_type": "stream",
          "name": "stdout",
          "text": [
            "------ 학생 목록 -------\n",
            "이름\t총점\t평균\n",
            "윤인성\t368\t92.0\n",
            "연하진\t384\t96.0\n",
            "구지연\t356\t89.0\n",
            "나선주\t378\t94.5\n",
            "윤아린\t389\t97.25\n",
            "윤명월\t336\t84.0\n",
            "------ ------ ------\n"
          ]
        }
      ]
    },
    {
      "cell_type": "markdown",
      "source": [
        "python도 java처럼 garbage collector를 갖고 있다."
      ],
      "metadata": {
        "id": "QfYei4CW5S25"
      }
    },
    {
      "cell_type": "markdown",
      "source": [
        "class 내부의 변수를 외부에서 사용하는 것을 막고 싶을 때 instance_variable_name을 \\_\\_<변수이름> 형태로 선언한다."
      ],
      "metadata": {
        "id": "iid62A0f5kkg"
      }
    },
    {
      "cell_type": "code",
      "source": [
        "import math\n",
        "\n",
        "class Circle:\n",
        "  def __init__(self,radius):\n",
        "    self.__radius=radius\n",
        "  def get_circumference(self):\n",
        "    return 2*math.pi*self.__radius\n",
        "  def get_Area(self):\n",
        "    return math.pi*(self.__radius **2)\n",
        "\n",
        "#원의 둘레와 넓이를 구한다.\n",
        "circle=Circle(10)\n",
        "print(\"원의 둘레와 넓이를 구한다.\")\n",
        "print(\"원의 둘레:\",circle.get_circumference())\n",
        "print(\"원의 넓이:\",circle.get_area())\n",
        "print()\n",
        "\n",
        "#__radius에 접근, class외부에서 접근하는 것이므로 오류를 출력하게 된다.\n",
        "print(\"__radius에 접근\")\n",
        "print(circle.__radius)"
      ],
      "metadata": {
        "colab": {
          "base_uri": "https://localhost:8080/",
          "height": 255
        },
        "id": "5KgmXcEY50Va",
        "outputId": "3c331a53-b13b-41ec-9ee2-7f91d7e42c9f"
      },
      "execution_count": 25,
      "outputs": [
        {
          "output_type": "stream",
          "name": "stdout",
          "text": [
            "원의 둘레와 넓이를 구한다.\n",
            "원의 둘레: 62.83185307179586\n"
          ]
        },
        {
          "output_type": "error",
          "ename": "AttributeError",
          "evalue": "'Circle' object has no attribute 'get_area'",
          "traceback": [
            "\u001b[0;31m---------------------------------------------------------------------------\u001b[0m",
            "\u001b[0;31mAttributeError\u001b[0m                            Traceback (most recent call last)",
            "\u001b[0;32m/tmp/ipython-input-3378224053.py\u001b[0m in \u001b[0;36m<cell line: 0>\u001b[0;34m()\u001b[0m\n\u001b[1;32m     13\u001b[0m \u001b[0mprint\u001b[0m\u001b[0;34m(\u001b[0m\u001b[0;34m\"원의 둘레와 넓이를 구한다.\"\u001b[0m\u001b[0;34m)\u001b[0m\u001b[0;34m\u001b[0m\u001b[0;34m\u001b[0m\u001b[0m\n\u001b[1;32m     14\u001b[0m \u001b[0mprint\u001b[0m\u001b[0;34m(\u001b[0m\u001b[0;34m\"원의 둘레:\"\u001b[0m\u001b[0;34m,\u001b[0m\u001b[0mcircle\u001b[0m\u001b[0;34m.\u001b[0m\u001b[0mget_circumference\u001b[0m\u001b[0;34m(\u001b[0m\u001b[0;34m)\u001b[0m\u001b[0;34m)\u001b[0m\u001b[0;34m\u001b[0m\u001b[0;34m\u001b[0m\u001b[0m\n\u001b[0;32m---> 15\u001b[0;31m \u001b[0mprint\u001b[0m\u001b[0;34m(\u001b[0m\u001b[0;34m\"원의 넓이:\"\u001b[0m\u001b[0;34m,\u001b[0m\u001b[0mcircle\u001b[0m\u001b[0;34m.\u001b[0m\u001b[0mget_area\u001b[0m\u001b[0;34m(\u001b[0m\u001b[0;34m)\u001b[0m\u001b[0;34m)\u001b[0m\u001b[0;34m\u001b[0m\u001b[0;34m\u001b[0m\u001b[0m\n\u001b[0m\u001b[1;32m     16\u001b[0m \u001b[0mprint\u001b[0m\u001b[0;34m(\u001b[0m\u001b[0;34m)\u001b[0m\u001b[0;34m\u001b[0m\u001b[0;34m\u001b[0m\u001b[0m\n\u001b[1;32m     17\u001b[0m \u001b[0;34m\u001b[0m\u001b[0m\n",
            "\u001b[0;31mAttributeError\u001b[0m: 'Circle' object has no attribute 'get_area'"
          ]
        }
      ]
    },
    {
      "cell_type": "code",
      "source": [
        "#getter와 setter는 __radius와 같은 private variable의 값을 추출하거나 변경할 목적으로, 간접적으로 속성에 접근하도록 해주는 함수이다.\n",
        "import math\n",
        "\n",
        "\n",
        "class Circle:\n",
        "  def __init__(self,radius):\n",
        "    self.__radius=radius\n",
        "  def get_circumference(self):\n",
        "    return 2*math.pi*self.__radius\n",
        "  def get_area(self):\n",
        "    return math.pi*(self.__radius **2)\n",
        "\n",
        "  #getter와 setter를 선언한다.\n",
        "  def get_radius(self):\n",
        "    return self.__radius\n",
        "  def set_radius(self, value):\n",
        "    self.__radius=value\n",
        "\n",
        "\n",
        "#원의 둘레와 넓이를 구한다.\n",
        "circle=Circle(10)\n",
        "print(\"원의 둘레와 넓이를 구한다.\")\n",
        "print(\"원의 둘레:\",circle.get_circumference())\n",
        "print(\"원의 넓이:\",circle.get_area())\n",
        "print()\n",
        "\n",
        "#__radius에 접근, class외부에서 접근하는 것이므로 오류를 출력하게 된다.\n",
        "print(\"__radius에 접근\")\n",
        "print(circle.get_radius())\n",
        "print()\n",
        "\n",
        "#원의 둘레와 넓이를 구한다.\n",
        "circle.set_radius(2)\n",
        "print(\"반지름을 2로 변경하고 원의 둘레와 넓이를 구한다.\")\n",
        "print(\"원의 둘레:\",circle.get_circumference())\n",
        "print(\"원의 넓이:\",circle.get_area())"
      ],
      "metadata": {
        "colab": {
          "base_uri": "https://localhost:8080/"
        },
        "id": "PFYMkmco6jm5",
        "outputId": "07ee827e-6140-4f11-fbcb-b2f48dd3089a"
      },
      "execution_count": 28,
      "outputs": [
        {
          "output_type": "stream",
          "name": "stdout",
          "text": [
            "원의 둘레와 넓이를 구한다.\n",
            "원의 둘레: 62.83185307179586\n",
            "원의 넓이: 314.1592653589793\n",
            "\n",
            "__radius에 접근\n",
            "10\n",
            "\n",
            "반지름을 2로 변경하고 원의 둘레와 넓이를 구한다.\n",
            "원의 둘레: 12.566370614359172\n",
            "원의 넓이: 12.566370614359172\n"
          ]
        }
      ]
    },
    {
      "cell_type": "markdown",
      "source": [
        "# 상속"
      ],
      "metadata": {
        "id": "bd4jy7Tu9Dph"
      }
    },
    {
      "cell_type": "code",
      "source": [
        "#부모 class 선언\n",
        "class Parent:\n",
        "  def __init__(self):\n",
        "    self.value=\"테스트\"\n",
        "    print(\"Parent class의 __init()__ method가 호출되었습니다.\")\n",
        "  def test(self):\n",
        "    print(\"Parent class의 test() method입니다.\")\n",
        "\n",
        "#부모 class로부터 상속 받는 자식 class 선언\n",
        "class Child(Parent):\n",
        "  def __init__(self):\n",
        "    Parent.__init__(self)\n",
        "    print(\"Child class의 __init()__ method가 호출되었다.\")\n",
        "\n",
        "#자식 class의 instance를 생성하고 부모의 method를 호출한다.\n",
        "child=Child()\n",
        "child.test()\n",
        "print(child.value)"
      ],
      "metadata": {
        "colab": {
          "base_uri": "https://localhost:8080/"
        },
        "id": "ETWRSOyY9FMo",
        "outputId": "98f54e00-7798-4485-ee43-82fea852aaae"
      },
      "execution_count": 34,
      "outputs": [
        {
          "output_type": "stream",
          "name": "stdout",
          "text": [
            "Parent class의 __init()__ method가 호출되었습니다.\n",
            "Child class의 __init()__ method가 호출되었다.\n",
            "Parent class의 test() method입니다.\n",
            "테스트\n"
          ]
        }
      ]
    },
    {
      "cell_type": "markdown",
      "source": [
        "예외 class 만들기\n",
        "\n",
        "Exception이라는 기존에 있는 class를 조금 수정해서 CustomException라는 class를 만들겠다."
      ],
      "metadata": {
        "id": "bGsm3CbG94um"
      }
    },
    {
      "cell_type": "code",
      "source": [
        "class CustomException(Exception):\n",
        "  def __init__(self):\n",
        "    Exception.__init__(self)\n",
        "\n",
        "raise CustomException\n",
        "\n",
        "#이때 CustomException은 class Exception를 상속했기에 class Exception과 이름만 다를 뿐 모두 같은 class이다.\n",
        "#그렇기에 raise로 예외(exception)를 발생시키는 것도 가능하다."
      ],
      "metadata": {
        "colab": {
          "base_uri": "https://localhost:8080/",
          "height": 182
        },
        "id": "V_Rp54mk-B4z",
        "outputId": "6f6c5cde-6ab7-4520-84ed-cc180378b3d1"
      },
      "execution_count": 35,
      "outputs": [
        {
          "output_type": "error",
          "ename": "CustomException",
          "evalue": "",
          "traceback": [
            "\u001b[0;31m---------------------------------------------------------------------------\u001b[0m",
            "\u001b[0;31mCustomException\u001b[0m                           Traceback (most recent call last)",
            "\u001b[0;32m/tmp/ipython-input-280460808.py\u001b[0m in \u001b[0;36m<cell line: 0>\u001b[0;34m()\u001b[0m\n\u001b[1;32m      3\u001b[0m     \u001b[0mException\u001b[0m\u001b[0;34m.\u001b[0m\u001b[0m__init__\u001b[0m\u001b[0;34m(\u001b[0m\u001b[0mself\u001b[0m\u001b[0;34m)\u001b[0m\u001b[0;34m\u001b[0m\u001b[0;34m\u001b[0m\u001b[0m\n\u001b[1;32m      4\u001b[0m \u001b[0;34m\u001b[0m\u001b[0m\n\u001b[0;32m----> 5\u001b[0;31m \u001b[0;32mraise\u001b[0m \u001b[0mCustomException\u001b[0m\u001b[0;34m\u001b[0m\u001b[0;34m\u001b[0m\u001b[0m\n\u001b[0m",
            "\u001b[0;31mCustomException\u001b[0m: "
          ]
        }
      ]
    },
    {
      "cell_type": "code",
      "source": [
        "#자식 class로써 부모의 함수 재정의(override)하기\n",
        "class CustomException(Exception):\n",
        "  def __init__(self):\n",
        "    Exception.__init__(self)\n",
        "    print(\"내가 만든 오류가 생성되었어요!\")\n",
        "  def __str__(self):  #부모 class인 Exception에도 정의되어 있는 함수 __str__()를 자식에서 다시 정의하였다(override).\n",
        "    return \"오류가 발생했어요\"\n",
        "\n",
        "raise CustomException"
      ],
      "metadata": {
        "colab": {
          "base_uri": "https://localhost:8080/",
          "height": 200
        },
        "id": "mPxgJr3G-eFA",
        "outputId": "02c54834-0142-493e-e659-38db1c472417"
      },
      "execution_count": 36,
      "outputs": [
        {
          "output_type": "stream",
          "name": "stdout",
          "text": [
            "내가 만든 오류가 생성되었어요!\n"
          ]
        },
        {
          "output_type": "error",
          "ename": "CustomException",
          "evalue": "오류가 발생했어요",
          "traceback": [
            "\u001b[0;31m---------------------------------------------------------------------------\u001b[0m",
            "\u001b[0;31mCustomException\u001b[0m                           Traceback (most recent call last)",
            "\u001b[0;32m/tmp/ipython-input-1596725535.py\u001b[0m in \u001b[0;36m<cell line: 0>\u001b[0;34m()\u001b[0m\n\u001b[1;32m      7\u001b[0m     \u001b[0;32mreturn\u001b[0m \u001b[0;34m\"오류가 발생했어요\"\u001b[0m\u001b[0;34m\u001b[0m\u001b[0;34m\u001b[0m\u001b[0m\n\u001b[1;32m      8\u001b[0m \u001b[0;34m\u001b[0m\u001b[0m\n\u001b[0;32m----> 9\u001b[0;31m \u001b[0;32mraise\u001b[0m \u001b[0mCustomException\u001b[0m\u001b[0;34m\u001b[0m\u001b[0;34m\u001b[0m\u001b[0m\n\u001b[0m",
            "\u001b[0;31mCustomException\u001b[0m: 오류가 발생했어요"
          ]
        }
      ]
    },
    {
      "cell_type": "code",
      "source": [
        "#자식 class로써 부모에 없는 새로운 함수 정의하기\n",
        "class CustomException(Exception):\n",
        "  def __init__(self,message,value):\n",
        "    Exception.__init__(self)\n",
        "    self.message=message\n",
        "    self.value=ValueError\n",
        "\n",
        "  def __str__(self):\n",
        "    return self.message\n",
        "\n",
        "  def print(self):\n",
        "    print(\"오류 정보\")\n",
        "    print(\"메시지: \",self.message)\n",
        "    print(\"값: \",self.value)\n",
        "\n",
        "\n",
        "try:\n",
        "  raise CustomException(\"딱히 이유 없음\",273)\n",
        "except CustomException as e:\n",
        "  e.print()"
      ],
      "metadata": {
        "colab": {
          "base_uri": "https://localhost:8080/"
        },
        "id": "alnssMJm-2Qi",
        "outputId": "e9ce1593-310a-4bc0-9aaa-e6e7d666a0b9"
      },
      "execution_count": 37,
      "outputs": [
        {
          "output_type": "stream",
          "name": "stdout",
          "text": [
            "오류 정보\n",
            "메시지:  딱히 이유 없음\n",
            "값:  <class 'ValueError'>\n"
          ]
        }
      ]
    }
  ]
}